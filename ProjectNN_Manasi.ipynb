{
 "cells": [
  {
   "cell_type": "markdown",
   "metadata": {},
   "source": [
    "# Artificial Neural Network"
   ]
  },
  {
   "cell_type": "markdown",
   "metadata": {},
   "source": [
    "### Importing Libraries"
   ]
  },
  {
   "cell_type": "code",
   "execution_count": 1,
   "metadata": {},
   "outputs": [],
   "source": [
    "import pandas as pd\n",
    "import numpy as np\n",
    "from sklearn.model_selection import train_test_split, KFold, RandomizedSearchCV\n",
    "from sklearn.neural_network import MLPClassifier\n",
    "from sklearn.metrics import mean_squared_error, confusion_matrix, accuracy_score\n",
    "from sklearn.preprocessing import MinMaxScaler"
   ]
  },
  {
   "cell_type": "markdown",
   "metadata": {},
   "source": [
    "### Reading and Preprocessing Data "
   ]
  },
  {
   "cell_type": "code",
   "execution_count": 6,
   "metadata": {},
   "outputs": [
    {
     "name": "stdout",
     "output_type": "stream",
     "text": [
      "max price =  13500000.0\n",
      "min price =  5500.0\n",
      "0        (5500, 1005500]\n",
      "1        (5500, 1005500]\n",
      "2        (5500, 1005500]\n",
      "3        (5500, 1005500]\n",
      "4        (5500, 1005500]\n",
      "              ...       \n",
      "15166    (5500, 1005500]\n",
      "15167    (5500, 1005500]\n",
      "15168    (5500, 1005500]\n",
      "15169    (5500, 1005500]\n",
      "15170    (5500, 1005500]\n",
      "Name: Price Buckets, Length: 15171, dtype: category\n",
      "Categories (13, interval[int64]): [(5500, 1005500] < (1005500, 2005500] < (2005500, 3005500] < (3005500, 4005500] ... (9005500, 10005500] < (10005500, 11005500] < (11005500, 12005500] < (12005500, 13005500]]\n"
     ]
    }
   ],
   "source": [
    "df = pd.read_csv('austinHousingData.csv')\n",
    "df = df[['livingAreaSqFt', 'numOfBathrooms', 'avgSchoolRating', 'numOfBedrooms', 'numOfHighSchools', 'MedianStudentsPerTeacher', 'latestPrice']]\n",
    "X = df.iloc[:,:-1]\n",
    "y = df.iloc[:,-1]\n",
    "\n",
    "# extract latest price column\n",
    "latest_prices = df[\"latestPrice\"]\n",
    "# find maximum price\n",
    "max_value = latest_prices.max()\n",
    "print(\"max price = \", max_value)\n",
    "# find minimum price\n",
    "min_value = latest_prices.min()\n",
    "print(\"min price = \", min_value)\n",
    "\n",
    "# bucket the price values into ranges\n",
    "# each range increases by $1M each time\n",
    "buckets = [5500, 1005500, 2005500, 3005500, 4005500, 5005500, 6005500, 7005500, 8005500, 9005500, 10005500, 11005500, 12005500, 13005500]\n",
    "df['Price Buckets'] = pd.cut(df[\"latestPrice\"], buckets)\n",
    "print(df['Price Buckets'])\n",
    "\n",
    "scaler = MinMaxScaler()\n",
    "X = scaler.fit_transform(X)\n",
    "\n",
    "X_train, X_test, y_train, y_test = train_test_split(X, y, random_state = 1, test_size = 0.2) "
   ]
  },
  {
   "cell_type": "markdown",
   "metadata": {},
   "source": [
    "### Training Model with Relu"
   ]
  },
  {
   "cell_type": "code",
   "execution_count": null,
   "metadata": {},
   "outputs": [],
   "source": [
    "classifier = MLPClassifier(hidden_layer_sizes=(12,3), activation=\"relu\", solver='sgd', max_iter=500, learning_rate_init=0.3)\n",
    "classifier.fit(X_train, y_train)\n",
    "#Use sequential NN in keras"
   ]
  },
  {
   "cell_type": "code",
   "execution_count": null,
   "metadata": {},
   "outputs": [],
   "source": [
    "y_train_predicted = classifier.predict(X_train)\n",
    "train_mse = mean_squared_error(y_train,y_train_predicted)\n",
    "\n",
    "print(f\"Training MSE: {train_mse}\")\n",
    "acc_score = accuracy_score(y_train, y_train_predicted)\n",
    "print(f\"Accuracy Score: {acc_score}\")"
   ]
  }
 ],
 "metadata": {
  "kernelspec": {
   "display_name": "Python 3",
   "language": "python",
   "name": "python3"
  },
  "language_info": {
   "codemirror_mode": {
    "name": "ipython",
    "version": 3
   },
   "file_extension": ".py",
   "mimetype": "text/x-python",
   "name": "python",
   "nbconvert_exporter": "python",
   "pygments_lexer": "ipython3",
   "version": "3.8.5"
  }
 },
 "nbformat": 4,
 "nbformat_minor": 5
}
