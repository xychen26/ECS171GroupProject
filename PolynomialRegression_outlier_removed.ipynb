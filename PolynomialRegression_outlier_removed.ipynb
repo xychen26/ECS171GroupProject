{
 "cells": [
  {
   "cell_type": "markdown",
   "id": "3d7fe2be",
   "metadata": {},
   "source": [
    "# Selecting Data Phase"
   ]
  },
  {
   "cell_type": "code",
   "execution_count": 19,
   "id": "97cbcc85",
   "metadata": {},
   "outputs": [
    {
     "name": "stdout",
     "output_type": "stream",
     "text": [
      "sample graphs of outlier removal\n",
      "\n",
      "before\n"
     ]
    },
    {
     "data": {
      "image/png": "[encoded data removed]",
      "text/plain": [
       "<Figure size 576x288 with 1 Axes>"
      ]
     },
     "metadata": {
      "needs_background": "light"
     },
     "output_type": "display_data"
    },
    {
     "name": "stdout",
     "output_type": "stream",
     "text": [
      "after\n"
     ]
    },
    {
     "data": {
      "image/png": "[encoded data removed]",
      "text/plain": [
       "<Figure size 576x288 with 1 Axes>"
      ]
     },
     "metadata": {
      "needs_background": "light"
     },
     "output_type": "display_data"
    }
   ],
   "source": [
    "import numpy as np\n",
    "import operator\n",
    "import pandas as pd\n",
    "import matplotlib.pyplot as plt\n",
    "from sklearn.metrics import mean_squared_error\n",
    "from sklearn.model_selection import train_test_split\n",
    "from sklearn.preprocessing import MinMaxScaler \n",
    "from sklearn.preprocessing import PolynomialFeatures\n",
    "from sklearn.linear_model import LinearRegression\n",
    "from scipy import stats\n",
    "\n",
    "def min_max_normalization(x) :\n",
    "    x_min = min(x)\n",
    "    x_max = max(x)\n",
    "    x = [(a - x_min)/(x_max - x_min) for a in x]\n",
    "    return x\n",
    "\n",
    "#Independent variables: numOfBathrooms, avgSchoolRating, numOfBedrooms, numOfHighSchools, and MedianStudentsPerTeacher\n",
    "#Dependent varaibles: lateestPrice\n",
    "\n",
    "df = pd.read_csv('austinHousingData.csv')\n",
    "df_filtered = df[['numOfBathrooms', 'avgSchoolRating', 'numOfBedrooms', 'numOfHighSchools', 'MedianStudentsPerTeacher', 'latestPrice']]\n",
    "\n",
    "z = np.abs(stats.zscore(df_filtered))\n",
    "threshold = 2\n",
    "df_filtered_o = df_filtered[(z < threshold).all(axis=1)]\n",
    "\n",
    "X = df_filtered_o[['numOfBathrooms', 'avgSchoolRating', 'numOfBedrooms', 'numOfHighSchools', 'MedianStudentsPerTeacher']]\n",
    "y = df_filtered_o.latestPrice\n",
    "y = y.to_numpy()\n",
    "\n",
    "print('sample graphs of outlier removal\\n')\n",
    "\n",
    "print('before')\n",
    "fig, ax = plt.subplots(figsize=(8,4))\n",
    "ax.scatter(df_filtered['numOfBathrooms'], df_filtered['latestPrice'])\n",
    "ax.set_xlabel('livingAreaSqFt')\n",
    "ax.set_ylabel('latestPrice')\n",
    "plt.show()\n",
    "print('after')\n",
    "fig, ax = plt.subplots(figsize=(8,4))\n",
    "ax.scatter(df_filtered_o['numOfBathrooms'], df_filtered_o['latestPrice'])\n",
    "ax.set_xlabel('livingAreaSqFt')\n",
    "ax.set_ylabel('latestPrice')\n",
    "plt.show()"
   ]
  },
  {
   "cell_type": "markdown",
   "id": "06938a73",
   "metadata": {},
   "source": [
    "# Training/Modeling Phase"
   ]
  },
  {
   "cell_type": "code",
   "execution_count": 20,
   "id": "3b15f7a0",
   "metadata": {},
   "outputs": [
    {
     "name": "stdout",
     "output_type": "stream",
     "text": [
      "Training MSE for degree 2 = 0.01262175920747523\n",
      "Testing MSE for degree 2 = 0.043851127546815305 \n",
      "\n",
      "Training MSE for degree 3 = 0.012323078318747627\n",
      "Testing MSE for degree 3 = 0.041784576406933685 \n",
      "\n",
      "Training MSE for degree 4 = 0.011856470116198038\n",
      "Testing MSE for degree 4 = 0.0406636209291548 \n",
      "\n",
      "Training MSE for degree 5 = 0.011490324809478304\n",
      "Testing MSE for degree 5 = 0.03810119448429927 \n",
      "\n",
      "Training MSE for degree 6 = 0.010995613206455824\n",
      "Testing MSE for degree 6 = 0.04360148524184442 \n",
      "\n",
      "Training MSE for degree 7 = 0.010558033163475273\n",
      "Testing MSE for degree 7 = 0.15614119685834202 \n",
      "\n",
      "Training MSE for degree 8 = 0.01006896059452177\n",
      "Testing MSE for degree 8 = 1603.3155413943573 \n",
      "\n",
      "Training MSE for degree 9 = 0.009843878366122554\n",
      "Testing MSE for degree 9 = 55158.252338896935 \n",
      "\n",
      "Training MSE for degree 10 = 0.010200338215181879\n",
      "Testing MSE for degree 10 = 28908.896104443662 \n",
      "\n"
     ]
    }
   ],
   "source": [
    "for i in range(2,11):\n",
    "    y = min_max_normalization(y)\n",
    "    degree = i\n",
    "    poly = PolynomialFeatures(degree)\n",
    "    X_poly = poly.fit_transform(X)\n",
    "\n",
    "    tSize = int(len(df)*0.1)\n",
    "    X_poly_train, X_poly_test, y_train, y_test = X_poly[:-tSize], X_poly[-tSize:], y[:-tSize], y[-tSize:]\n",
    "    \n",
    "    model = LinearRegression()\n",
    "    model.fit(X_poly_train, y_train)\n",
    "\n",
    "    y_train_pred = model.predict(X_poly_train)\n",
    "    y_test_pred = model.predict(X_poly_test)\n",
    "\n",
    "    mse_train = mean_squared_error(y_train,y_train_pred)\n",
    "    mse_test = mean_squared_error(y_test,y_test_pred)\n",
    "    print(\"Training MSE for degree\", degree, \"=\", mse_train)\n",
    "    print(\"Testing MSE for degree\", degree, \"=\", mse_test, \"\\n\")"
   ]
  },
  {
   "cell_type": "code",
   "execution_count": null,
   "id": "d68172b7",
   "metadata": {},
   "outputs": [],
   "source": []
  }
 ],
 "metadata": {
  "kernelspec": {
   "display_name": "Python 3",
   "language": "python",
   "name": "python3"
  },
  "language_info": {
   "codemirror_mode": {
    "name": "ipython",
    "version": 3
   },
   "file_extension": ".py",
   "mimetype": "text/x-python",
   "name": "python",
   "nbconvert_exporter": "python",
   "pygments_lexer": "ipython3",
   "version": "3.8.8"
  }
 },
 "nbformat": 4,
 "nbformat_minor": 5
}
