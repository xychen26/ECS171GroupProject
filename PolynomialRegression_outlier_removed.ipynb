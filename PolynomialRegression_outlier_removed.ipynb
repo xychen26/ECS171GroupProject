{
 "cells": [
  {
   "cell_type": "markdown",
   "id": "ca19024f",
   "metadata": {},
   "source": [
    "# Selecting Data Phase"
   ]
  },
  {
   "cell_type": "code",
   "execution_count": 27,
   "id": "ff6b601c",
   "metadata": {},
   "outputs": [
    {
     "name": "stdout",
     "output_type": "stream",
     "text": [
      "sample graphs of outlier removal\n",
      "\n",
      "before\n"
     ]
    },
    {
     "data": {
      "image/png": "[encoded data removed]",
      "text/plain": [
       "<Figure size 576x288 with 1 Axes>"
      ]
     },
     "metadata": {
      "needs_background": "light"
     },
     "output_type": "display_data"
    },
    {
     "name": "stdout",
     "output_type": "stream",
     "text": [
      "after\n"
     ]
    },
    {
     "data": {
      "image/png": "[encoded data removed]",
      "text/plain": [
       "<Figure size 576x288 with 1 Axes>"
      ]
     },
     "metadata": {
      "needs_background": "light"
     },
     "output_type": "display_data"
    }
   ],
   "source": [
    "import numpy as np\n",
    "import operator\n",
    "import pandas as pd\n",
    "import matplotlib.pyplot as plt\n",
    "from sklearn.metrics import mean_squared_error\n",
    "from sklearn.model_selection import train_test_split\n",
    "from sklearn.preprocessing import MinMaxScaler \n",
    "from sklearn.preprocessing import PolynomialFeatures\n",
    "from sklearn.linear_model import LinearRegression\n",
    "from scipy import stats\n",
    "\n",
    "def min_max_normalization(x) :\n",
    "    x_min = min(x)\n",
    "    x_max = max(x)\n",
    "    x = [(a - x_min)/(x_max - x_min) for a in x]\n",
    "    return x\n",
    "\n",
    "#Independent variables: numOfBathrooms, avgSchoolRating, numOfBedrooms, numOfHighSchools, and MedianStudentsPerTeacher\n",
    "#Dependent varaibles: lateestPrice\n",
    "\n",
    "df = pd.read_csv('austinHousingData.csv')\n",
    "df_filtered = df[['numOfBathrooms', 'avgSchoolRating', 'numOfBedrooms', 'numOfHighSchools', 'MedianStudentsPerTeacher', 'latestPrice']]\n",
    "\n",
    "z = np.abs(stats.zscore(df_filtered))\n",
    "threshold = 3\n",
    "df_filtered_o = df_filtered[(z < threshold).all(axis=1)]\n",
    "\n",
    "X = df_filtered_o[['numOfBathrooms', 'avgSchoolRating', 'numOfBedrooms', 'numOfHighSchools', 'MedianStudentsPerTeacher']]\n",
    "y = df_filtered_o.latestPrice\n",
    "y = y.to_numpy()\n",
    "\n",
    "print('sample graphs of outlier removal\\n')\n",
    "\n",
    "print('before')\n",
    "fig, ax = plt.subplots(figsize=(8,4))\n",
    "ax.scatter(df_filtered['numOfBathrooms'], df_filtered['latestPrice'])\n",
    "ax.set_xlabel('numOfBathrooms')\n",
    "ax.set_ylabel('latestPrice')\n",
    "plt.show()\n",
    "print('after')\n",
    "fig, ax = plt.subplots(figsize=(8,4))\n",
    "ax.scatter(df_filtered_o['numOfBathrooms'], df_filtered_o['latestPrice'])\n",
    "ax.set_xlabel('numOfBathrooms')\n",
    "ax.set_ylabel('latestPrice')\n",
    "plt.show()"
   ]
  },
  {
   "cell_type": "markdown",
   "id": "69dad423",
   "metadata": {},
   "source": [
    "# Training/Modeling Phase"
   ]
  },
  {
   "cell_type": "code",
   "execution_count": 28,
   "id": "8882d9b4",
   "metadata": {},
   "outputs": [
    {
     "name": "stdout",
     "output_type": "stream",
     "text": [
      "Training MSE for degree 2 = 0.009146443807497219\n",
      "Testing MSE for degree 2 = 0.039025503657775004 \n",
      "\n",
      "Training MSE for degree 3 = 0.008844474843473024\n",
      "Testing MSE for degree 3 = 0.03688150458643398 \n",
      "\n",
      "Training MSE for degree 4 = 0.008525855208517386\n",
      "Testing MSE for degree 4 = 0.03587689856485998 \n",
      "\n",
      "Training MSE for degree 5 = 0.008220391001253219\n",
      "Testing MSE for degree 5 = 0.03429538262123291 \n",
      "\n",
      "Training MSE for degree 6 = 0.00807009560108433\n",
      "Testing MSE for degree 6 = 0.03404205388546817 \n",
      "\n",
      "Training MSE for degree 7 = 0.007630883212453945\n",
      "Testing MSE for degree 7 = 0.03229445118357914 \n",
      "\n",
      "Training MSE for degree 8 = 0.007298712079116188\n",
      "Testing MSE for degree 8 = 0.10014764863071346 \n",
      "\n",
      "Training MSE for degree 9 = 0.007127571346328975\n",
      "Testing MSE for degree 9 = 19.983519047434132 \n",
      "\n",
      "Training MSE for degree 10 = 0.006720246227861448\n",
      "Testing MSE for degree 10 = 95.86776522669663 \n",
      "\n"
     ]
    }
   ],
   "source": [
    "for i in range(2,11):\n",
    "    y = min_max_normalization(y)\n",
    "    degree = i\n",
    "    poly = PolynomialFeatures(degree)\n",
    "    X_poly = poly.fit_transform(X)\n",
    "\n",
    "    tSize = int(len(df)*0.1)\n",
    "    X_poly_train, X_poly_test, y_train, y_test = X_poly[:-tSize], X_poly[-tSize:], y[:-tSize], y[-tSize:]\n",
    "    \n",
    "    model = LinearRegression()\n",
    "    model.fit(X_poly_train, y_train)\n",
    "\n",
    "    y_train_pred = model.predict(X_poly_train)\n",
    "    y_test_pred = model.predict(X_poly_test)\n",
    "\n",
    "    mse_train = mean_squared_error(y_train,y_train_pred)\n",
    "    mse_test = mean_squared_error(y_test,y_test_pred)\n",
    "    print(\"Training MSE for degree\", degree, \"=\", mse_train)\n",
    "    print(\"Testing MSE for degree\", degree, \"=\", mse_test, \"\\n\")"
   ]
  },
  {
   "cell_type": "code",
   "execution_count": null,
   "id": "968b0ad6",
   "metadata": {},
   "outputs": [],
   "source": []
  }
 ],
 "metadata": {
  "kernelspec": {
   "display_name": "Python 3",
   "language": "python",
   "name": "python3"
  },
  "language_info": {
   "codemirror_mode": {
    "name": "ipython",
    "version": 3
   },
   "file_extension": ".py",
   "mimetype": "text/x-python",
   "name": "python",
   "nbconvert_exporter": "python",
   "pygments_lexer": "ipython3",
   "version": "3.8.8"
  }
 },
 "nbformat": 4,
 "nbformat_minor": 5
}
