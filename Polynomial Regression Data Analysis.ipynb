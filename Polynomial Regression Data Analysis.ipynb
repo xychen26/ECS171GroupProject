{
 "cells": [
  {
   "cell_type": "markdown",
   "id": "c03e6805",
   "metadata": {},
   "source": [
    "### Polynomial Regression"
   ]
  },
  {
   "cell_type": "code",
   "execution_count": 5,
   "id": "6ec5bc0c",
   "metadata": {},
   "outputs": [
    {
     "name": "stdout",
     "output_type": "stream",
     "text": [
      "Degree = 2\n",
      "Training MSE for degree 2 = 0.0005794768405008606\n",
      "Testing MSE for degree 2 = 0.0004232466214526671\n",
      "Degree = 3\n",
      "Training MSE for degree 3 = 0.0005151429097512561\n",
      "Testing MSE for degree 3 = 0.0004152630210698791\n",
      "Degree = 4\n",
      "Training MSE for degree 4 = 0.00047361646333528957\n",
      "Testing MSE for degree 4 = 0.00041810288669832924\n",
      "Degree = 5\n",
      "Training MSE for degree 5 = 0.00044009676762955065\n",
      "Testing MSE for degree 5 = 0.0003874874428617258\n",
      "Degree = 6\n",
      "Training MSE for degree 6 = 0.00040520680567205416\n",
      "Testing MSE for degree 6 = 0.003894839895630842\n",
      "Degree = 7\n",
      "Training MSE for degree 7 = 0.00037769623995625415\n",
      "Testing MSE for degree 7 = 1.5111536136469692\n",
      "Degree = 8\n",
      "Training MSE for degree 8 = 0.00037116429424346835\n",
      "Testing MSE for degree 8 = 16473.365624745198\n",
      "Degree = 9\n",
      "Training MSE for degree 9 = 0.000327817899385261\n",
      "Testing MSE for degree 9 = 3379.802907246486\n",
      "Degree = 10\n",
      "Training MSE for degree 10 = 0.0003244819922751131\n",
      "Testing MSE for degree 10 = 8035.663753154075\n"
     ]
    }
   ],
   "source": [
    "import numpy as np\n",
    "import operator\n",
    "import pandas as pd\n",
    "import matplotlib.pyplot as plt\n",
    "import seaborn as sns\n",
    "from sklearn.metrics import mean_squared_error\n",
    "from sklearn.model_selection import train_test_split\n",
    "from sklearn.neural_network import MLPClassifier\n",
    "from sklearn.preprocessing import MinMaxScaler \n",
    "from sklearn.preprocessing import LabelEncoder \n",
    "from sklearn.preprocessing import OneHotEncoder\n",
    "from sklearn.preprocessing import PolynomialFeatures\n",
    "from sklearn.linear_model import LinearRegression\n",
    "\n",
    "def min_max_normalization(x) :\n",
    "    x_min = min(x)\n",
    "    x_max = max(x)\n",
    "    x = [(a - x_min)/(x_max - x_min) for a in x]\n",
    "    return x\n",
    "\n",
    "#Independent variables: numOfBathrooms, avgSchoolRating, numOfBedrooms, numOfHighSchools, and MedianStudentsPerTeacher\n",
    "#Dependent varaibles: lateestPrice\n",
    "\n",
    "\n",
    "df = pd.read_csv('austinHousingData.csv')\n",
    "labelsToRemove = ['zpid', 'city', 'streetAddress', 'latitude', 'longitude', 'description', 'hasGarage', 'numPriceChanges', 'latest_saledate', 'latest_salemonth', 'latest_saleyear', 'latestPriceSource', 'numOfPhotos', 'homeImage']\n",
    "\n",
    "df.drop(labelsToRemove, axis = 1, inplace=True)\n",
    "\n",
    "df_p = df.sample(len(df), random_state=25)\n",
    "X_col = ['numOfBathrooms', 'avgSchoolRating', 'numOfBedrooms', 'numOfHighSchools', 'livingAreaSqFt']\n",
    "X = df_p[X_col]\n",
    "\n",
    "\n",
    "sc_X = MinMaxScaler()\n",
    "X = sc_X.fit_transform(X)\n",
    "\n",
    "Y = df_p.latestPrice\n",
    "\n",
    "Y = min_max_normalization(Y)\n",
    "\n",
    "for degree in range(2, 11):\n",
    "    poly = PolynomialFeatures(degree)\n",
    "    X_poly = poly.fit_transform(X)\n",
    "\n",
    "    tSize = int(len(df_p)*0.1)\n",
    "    #X_poly_train, X_poly_test, Y_train, Y_test = train_test_split(X_poly, Y, train_size = 0.9, random_state = 1)#X_poly[:-tSize], X_poly[-tSize:], Y[:-tSize], Y[-tSize:]\n",
    "    X_poly_train, X_poly_test, Y_train, Y_test = X_poly[:-tSize], X_poly[-tSize:], Y[:-tSize], Y[-tSize:]\n",
    "\n",
    "    model = LinearRegression()\n",
    "    model.fit(X_poly_train, Y_train)\n",
    "\n",
    "    Y_train_pred = model.predict(X_poly_train)\n",
    "    Y_test_pred = model.predict(X_poly_test)\n",
    "\n",
    "    mse_train = mean_squared_error(Y_train,Y_train_pred)\n",
    "    mse_test = mean_squared_error(Y_test,Y_test_pred)\n",
    "    print(\"Degree =\", degree)\n",
    "    print(\"Training MSE for degree\", degree, \"=\", mse_train)\n",
    "    print(\"Testing MSE for degree\", degree, \"=\", mse_test)\n"
   ]
  },
  {
   "cell_type": "markdown",
   "id": "30b8966c",
   "metadata": {},
   "source": [
    "Based on the results, it seems like the optimal degree is 3. Overfitting occurs when the degree becomes greater than 3, as the testing MSE becomes much greater than the training MSE. "
   ]
  },
  {
   "cell_type": "markdown",
   "id": "bf95ccdb",
   "metadata": {},
   "source": [
    "### 3rd-degree polynomial regression"
   ]
  },
  {
   "cell_type": "code",
   "execution_count": 42,
   "id": "62659bea",
   "metadata": {
    "scrolled": true
   },
   "outputs": [
    {
     "name": "stdout",
     "output_type": "stream",
     "text": [
      "Degree = 3\n",
      "Training MSE for degree 3 = 0.0005175219176832942\n",
      "Testing MSE for degree 3 = 0.0004099689530503299\n"
     ]
    }
   ],
   "source": [
    "import numpy as np\n",
    "import operator\n",
    "import pandas as pd\n",
    "import matplotlib.pyplot as plt\n",
    "import seaborn as sns\n",
    "from sklearn.metrics import mean_squared_error\n",
    "from sklearn.model_selection import train_test_split\n",
    "from sklearn.neural_network import MLPClassifier\n",
    "from sklearn.preprocessing import MinMaxScaler \n",
    "from sklearn.preprocessing import LabelEncoder \n",
    "from sklearn.preprocessing import OneHotEncoder\n",
    "from sklearn.preprocessing import PolynomialFeatures\n",
    "from sklearn.linear_model import LinearRegression\n",
    "\n",
    "def min_max_normalization(x) :\n",
    "    x_min = min(x)\n",
    "    x_max = max(x)\n",
    "    x = [(a - x_min)/(x_max - x_min) for a in x]\n",
    "    return x\n",
    "\n",
    "#Independent variables: numOfBathrooms, avgSchoolRating, numOfBedrooms, numOfHighSchools, and MedianStudentsPerTeacher\n",
    "#Dependent varaibles: lateestPrice\n",
    "\n",
    "\n",
    "df = pd.read_csv('austinHousingData.csv')\n",
    "labelsToRemove = ['zpid', 'city', 'streetAddress', 'latitude', 'longitude', 'description', 'hasGarage', 'numPriceChanges', 'latest_saledate', 'latest_salemonth', 'latest_saleyear', 'latestPriceSource', 'numOfPhotos', 'homeImage']\n",
    "\n",
    "df.drop(labelsToRemove, axis = 1, inplace=True)\n",
    "\n",
    "df_p = df.sample(len(df), random_state=25)\n",
    "X_col = ['numOfBathrooms', 'avgSchoolRating', 'numOfBedrooms', 'numOfHighSchools', 'livingAreaSqFt']\n",
    "X = df_p[X_col]\n",
    "\n",
    "\n",
    "sc_X = MinMaxScaler()\n",
    "\n",
    "Y = df_p.latestPrice\n",
    "\n",
    "Y = min_max_normalization(Y)\n",
    "\n",
    "degree = 3\n",
    "poly = PolynomialFeatures(degree)\n",
    "X_poly = poly.fit_transform(X)\n",
    "\n",
    "tSize = int(len(df_p)*0.1)\n",
    "#X_poly_train, X_poly_test, Y_train, Y_test = train_test_split(X_poly, Y, train_size = 0.9, random_state = 1)#X_poly[:-tSize], X_poly[-tSize:], Y[:-tSize], Y[-tSize:]\n",
    "X_poly_train, X_poly_test, Y_train, Y_test = X_poly[:-tSize], X_poly[-tSize:], Y[:-tSize], Y[-tSize:]\n",
    "\n",
    "model = LinearRegression()\n",
    "model.fit(X_poly_train, Y_train)\n",
    "\n",
    "Y_train_pred = model.predict(X_poly_train)\n",
    "Y_test_pred = model.predict(X_poly_test)\n",
    "\n",
    "mse_train = mean_squared_error(Y_train,Y_train_pred)\n",
    "mse_test = mean_squared_error(Y_test,Y_test_pred)\n",
    "print(\"Degree =\", degree)\n",
    "print(\"Training MSE for degree\", degree, \"=\", mse_train)\n",
    "print(\"Testing MSE for degree\", degree, \"=\", mse_test)"
   ]
  },
  {
   "cell_type": "code",
   "execution_count": 43,
   "id": "2f79e2ee",
   "metadata": {
    "scrolled": true
   },
   "outputs": [
    {
     "name": "stdout",
     "output_type": "stream",
     "text": [
      "y-intercept = 0.3800\n",
      "coefficient =  [ 3.10402555e-07 -5.18678110e-02 -1.13554804e-01  8.41674396e-02\n",
      " -2.62992259e-01 -1.00874414e-04  2.13508557e-03  7.22981997e-03\n",
      "  1.00321737e-02  2.01257630e-02 -2.09372368e-06  9.48788414e-03\n",
      " -1.51258531e-02  1.16667548e-01  2.52690128e-05 -5.81441090e-03\n",
      " -8.22984646e-02  2.55201404e-06 -1.46930214e-01  1.18644978e-04\n",
      " -7.11108920e-09 -7.33819655e-05 -3.41044333e-05 -1.56304589e-04\n",
      "  4.27882976e-04  3.06491468e-07 -8.98013263e-04 -6.70938911e-05\n",
      "  1.06768514e-03  8.66555339e-07 -1.03164603e-04 -9.73707542e-03\n",
      " -3.80683093e-07 -1.46269414e-03  3.96146366e-06 -4.21471150e-10\n",
      " -6.02569901e-05  5.61183422e-04 -6.84573242e-03 -9.95343349e-07\n",
      "  3.90321979e-04  9.03094156e-03 -1.13588528e-06 -2.06471654e-02\n",
      " -1.62487653e-05  7.38962634e-10  1.17881874e-06  3.50628146e-03\n",
      "  3.82004811e-07  1.48092273e-02  9.96152230e-07  2.97430691e-10\n",
      "  8.51237074e-02 -2.63197903e-05  1.56758886e-09 -3.80251386e-15]\n",
      "56\n"
     ]
    }
   ],
   "source": [
    "from statsmodels.regression.linear_model import OLS\n",
    "print(\"y-intercept = %.4f\" % model.intercept_)\n",
    "print(\"coefficient = \", model.coef_)\n",
    "print(len(model.coef_))"
   ]
  },
  {
   "cell_type": "code",
   "execution_count": null,
   "id": "cd3a0e98",
   "metadata": {},
   "outputs": [],
   "source": []
  }
 ],
 "metadata": {
  "kernelspec": {
   "display_name": "Python 3",
   "language": "python",
   "name": "python3"
  },
  "language_info": {
   "codemirror_mode": {
    "name": "ipython",
    "version": 3
   },
   "file_extension": ".py",
   "mimetype": "text/x-python",
   "name": "python",
   "nbconvert_exporter": "python",
   "pygments_lexer": "ipython3",
   "version": "3.8.8"
  }
 },
 "nbformat": 4,
 "nbformat_minor": 5
}
