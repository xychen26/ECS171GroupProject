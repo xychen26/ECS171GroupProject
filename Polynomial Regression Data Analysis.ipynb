{
 "cells": [
  {
   "cell_type": "markdown",
   "id": "c03e6805",
   "metadata": {},
   "source": [
    "### Polynomial Regression"
   ]
  },
  {
   "cell_type": "code",
   "execution_count": 4,
   "id": "3bd56db7",
   "metadata": {},
   "outputs": [
    {
     "name": "stdout",
     "output_type": "stream",
     "text": [
      "Degree = 2\n",
      "Training MSE for degree 2 = 0.010854668752436653\n",
      "Testing MSE for degree 2 = 0.011020804359925477\n",
      "Degree = 3\n",
      "Training MSE for degree 3 = 0.010563644154528809\n",
      "Testing MSE for degree 3 = 0.01063063347685935\n",
      "Degree = 4\n",
      "Training MSE for degree 4 = 0.010405086005406497\n",
      "Testing MSE for degree 4 = 0.010809037066710478\n",
      "Degree = 5\n",
      "Training MSE for degree 5 = 0.010073471041957771\n",
      "Testing MSE for degree 5 = 0.010504569673717731\n",
      "Degree = 6\n",
      "Training MSE for degree 6 = 0.009802950572958232\n",
      "Testing MSE for degree 6 = 0.01150035595674514\n",
      "Degree = 7\n",
      "Training MSE for degree 7 = 0.009508859712581563\n",
      "Testing MSE for degree 7 = 0.1253807057002417\n",
      "Degree = 8\n",
      "Training MSE for degree 8 = 0.00912138096282003\n",
      "Testing MSE for degree 8 = 0.025506623944692473\n",
      "Degree = 9\n",
      "Training MSE for degree 9 = 0.008919545377408937\n",
      "Testing MSE for degree 9 = 274.9843993763207\n",
      "Degree = 10\n",
      "Training MSE for degree 10 = 0.008636044189581906\n",
      "Testing MSE for degree 10 = 458099.4981559205\n"
     ]
    }
   ],
   "source": [
    "import numpy as np\n",
    "import operator\n",
    "import pandas as pd\n",
    "import matplotlib.pyplot as plt\n",
    "import seaborn as sns\n",
    "from sklearn.metrics import mean_squared_error\n",
    "from sklearn.model_selection import train_test_split\n",
    "from sklearn.neural_network import MLPClassifier\n",
    "from sklearn.preprocessing import MinMaxScaler \n",
    "from sklearn.preprocessing import LabelEncoder \n",
    "from sklearn.preprocessing import OneHotEncoder\n",
    "from sklearn.preprocessing import PolynomialFeatures\n",
    "from sklearn.linear_model import LinearRegression\n",
    "\n",
    "def min_max_normalization(x) :\n",
    "    x_min = min(x)\n",
    "    x_max = max(x)\n",
    "    x = [(a - x_min)/(x_max - x_min) for a in x]\n",
    "    return x\n",
    "\n",
    "#Independent variables: numOfBathrooms, avgSchoolRating, numOfBedrooms, numOfHighSchools, and livingAreaSqFt\n",
    "#Dependent varaibles: lateestPrice\n",
    "\n",
    "\n",
    "df = pd.read_csv('austinHousingData.csv')\n",
    "df_filtered = df[['numOfBathrooms', 'avgSchoolRating', 'numOfBedrooms', 'numOfHighSchools', 'livingAreaSqFt', 'latestPrice']]\n",
    "z = np.abs(stats.zscore(df_filtered))\n",
    "threshold = 3\n",
    "df_filtered_o = df_filtered[(z < threshold).all(axis=1)]\n",
    "df_p = df_filtered_o.sample(len(df_filtered_o), random_state=25)\n",
    "X_col = ['numOfBathrooms', 'avgSchoolRating', 'numOfBedrooms', 'numOfHighSchools', 'livingAreaSqFt']\n",
    "X = df_p[X_col]\n",
    "\n",
    "\n",
    "sc_X = MinMaxScaler()\n",
    "X = sc_X.fit_transform(X)\n",
    "\n",
    "Y = df_p.latestPrice\n",
    "\n",
    "Y = min_max_normalization(Y)\n",
    "\n",
    "for degree in range(2, 11):\n",
    "    poly = PolynomialFeatures(degree)\n",
    "    X_poly = poly.fit_transform(X)\n",
    "\n",
    "    tSize = int(len(df_p)*0.1)\n",
    "    #X_poly_train, X_poly_test, Y_train, Y_test = train_test_split(X_poly, Y, train_size = 0.9, random_state = 1)#X_poly[:-tSize], X_poly[-tSize:], Y[:-tSize], Y[-tSize:]\n",
    "    X_poly_train, X_poly_test, Y_train, Y_test = X_poly[:-tSize], X_poly[-tSize:], Y[:-tSize], Y[-tSize:]\n",
    "\n",
    "    model = LinearRegression()\n",
    "    model.fit(X_poly_train, Y_train)\n",
    "\n",
    "    Y_train_pred = model.predict(X_poly_train)\n",
    "    Y_test_pred = model.predict(X_poly_test)\n",
    "\n",
    "    mse_train = mean_squared_error(Y_train,Y_train_pred)\n",
    "    mse_test = mean_squared_error(Y_test,Y_test_pred)\n",
    "    print(\"Degree =\", degree)\n",
    "    print(\"Training MSE for degree\", degree, \"=\", mse_train)\n",
    "    print(\"Testing MSE for degree\", degree, \"=\", mse_test)"
   ]
  },
  {
   "cell_type": "markdown",
   "id": "30b8966c",
   "metadata": {},
   "source": [
    "Based on the results, it seems like the optimal degree is 3. Overfitting occurs when the degree becomes greater than 3, as the testing MSE becomes much greater than the training MSE. "
   ]
  },
  {
   "cell_type": "markdown",
   "id": "bf95ccdb",
   "metadata": {},
   "source": [
    "### 3rd-degree polynomial regression"
   ]
  },
  {
   "cell_type": "code",
   "execution_count": 5,
   "id": "62659bea",
   "metadata": {
    "scrolled": true
   },
   "outputs": [
    {
     "name": "stdout",
     "output_type": "stream",
     "text": [
      "Degree = 3\n",
      "Training MSE for degree 3 = 0.010563644154528809\n",
      "Testing MSE for degree 3 = 0.01063063347685935\n"
     ]
    }
   ],
   "source": [
    "import numpy as np\n",
    "import operator\n",
    "import pandas as pd\n",
    "import matplotlib.pyplot as plt\n",
    "import seaborn as sns\n",
    "from sklearn.metrics import mean_squared_error\n",
    "from sklearn.model_selection import train_test_split\n",
    "from sklearn.neural_network import MLPClassifier\n",
    "from sklearn.preprocessing import MinMaxScaler \n",
    "from sklearn.preprocessing import LabelEncoder \n",
    "from sklearn.preprocessing import OneHotEncoder\n",
    "from sklearn.preprocessing import PolynomialFeatures\n",
    "from sklearn.linear_model import LinearRegression\n",
    "\n",
    "def min_max_normalization(x) :\n",
    "    x_min = min(x)\n",
    "    x_max = max(x)\n",
    "    x = [(a - x_min)/(x_max - x_min) for a in x]\n",
    "    return x\n",
    "\n",
    "#Independent variables: numOfBathrooms, avgSchoolRating, numOfBedrooms, numOfHighSchools, and livingAreaSqFt\n",
    "#Dependent varaibles: lateestPrice\n",
    "\n",
    "\n",
    "df = pd.read_csv('austinHousingData.csv')\n",
    "df_filtered = df[['numOfBathrooms', 'avgSchoolRating', 'numOfBedrooms', 'numOfHighSchools', 'livingAreaSqFt', 'latestPrice']]\n",
    "z = np.abs(stats.zscore(df_filtered))\n",
    "threshold = 3\n",
    "df_filtered_o = df_filtered[(z < threshold).all(axis=1)]\n",
    "df_p = df_filtered_o.sample(len(df_filtered_o), random_state=25)\n",
    "X_col = ['numOfBathrooms', 'avgSchoolRating', 'numOfBedrooms', 'numOfHighSchools', 'livingAreaSqFt']\n",
    "X = df_p[X_col]\n",
    "\n",
    "\n",
    "sc_X = MinMaxScaler()\n",
    "X = sc_X.fit_transform(X)\n",
    "\n",
    "Y = df_p.latestPrice\n",
    "\n",
    "Y = min_max_normalization(Y)\n",
    "\n",
    "degree = 3\n",
    "poly = PolynomialFeatures(degree)\n",
    "X_poly = poly.fit_transform(X)\n",
    "\n",
    "tSize = int(len(df_p)*0.1)\n",
    "#X_poly_train, X_poly_test, Y_train, Y_test = train_test_split(X_poly, Y, train_size = 0.9, random_state = 1)#X_poly[:-tSize], X_poly[-tSize:], Y[:-tSize], Y[-tSize:]\n",
    "X_poly_train, X_poly_test, Y_train, Y_test = X_poly[:-tSize], X_poly[-tSize:], Y[:-tSize], Y[-tSize:]\n",
    "\n",
    "model = LinearRegression()\n",
    "model.fit(X_poly_train, Y_train)\n",
    "\n",
    "Y_train_pred = model.predict(X_poly_train)\n",
    "Y_test_pred = model.predict(X_poly_test)\n",
    "\n",
    "mse_train = mean_squared_error(Y_train,Y_train_pred)\n",
    "mse_test = mean_squared_error(Y_test,Y_test_pred)\n",
    "print(\"Degree =\", degree)\n",
    "print(\"Training MSE for degree\", degree, \"=\", mse_train)\n",
    "print(\"Testing MSE for degree\", degree, \"=\", mse_test)"
   ]
  },
  {
   "cell_type": "code",
   "execution_count": 6,
   "id": "2f79e2ee",
   "metadata": {
    "scrolled": true
   },
   "outputs": [
    {
     "name": "stdout",
     "output_type": "stream",
     "text": [
      "y-intercept = 0.1953\n",
      "coefficient =  [-2.53853096e-15 -2.40620915e-01 -2.00992157e-02  1.31155609e-02\n",
      " -3.47499807e-14  7.85618419e-02 -4.27739759e-01  2.25939804e-01\n",
      " -3.41670080e-01  8.04911693e-16  1.84826127e+00  2.43913218e-01\n",
      " -7.18676471e-01  4.32986980e-15  2.00131797e+00  2.08892130e-01\n",
      "  1.22124533e-15 -3.33404839e-01 -5.66213743e-15  2.44249065e-15\n",
      " -8.59248940e-01  7.91750914e-01 -2.27846768e-01  9.48136727e-02\n",
      "  1.99840144e-15 -6.26758631e-01 -5.01835892e-03  7.55431071e-01\n",
      "  1.11022302e-16 -1.80414345e+00  4.55942882e-01 -3.88578059e-16\n",
      " -2.38108753e+00  0.00000000e+00  6.66133815e-16  1.84858883e+00\n",
      " -3.44728803e-01  8.81134210e-01  0.00000000e+00 -1.72820009e+00\n",
      " -2.05616666e-01  0.00000000e+00 -6.38624066e-01  0.00000000e+00\n",
      "  0.00000000e+00  1.74592174e+00 -1.35350630e-02  0.00000000e+00\n",
      " -3.21039704e-01  0.00000000e+00  0.00000000e+00  2.29822487e+00\n",
      "  0.00000000e+00  0.00000000e+00  0.00000000e+00 -1.91877596e+00]\n",
      "56\n"
     ]
    }
   ],
   "source": [
    "from statsmodels.regression.linear_model import OLS\n",
    "print(\"y-intercept = %.4f\" % model.intercept_)\n",
    "print(\"coefficient = \", model.coef_)\n",
    "print(len(model.coef_))"
   ]
  },
  {
   "cell_type": "code",
   "execution_count": null,
   "id": "cd3a0e98",
   "metadata": {},
   "outputs": [],
   "source": []
  }
 ],
 "metadata": {
  "kernelspec": {
   "display_name": "Python 3",
   "language": "python",
   "name": "python3"
  },
  "language_info": {
   "codemirror_mode": {
    "name": "ipython",
    "version": 3
   },
   "file_extension": ".py",
   "mimetype": "text/x-python",
   "name": "python",
   "nbconvert_exporter": "python",
   "pygments_lexer": "ipython3",
   "version": "3.8.8"
  }
 },
 "nbformat": 4,
 "nbformat_minor": 5
}
