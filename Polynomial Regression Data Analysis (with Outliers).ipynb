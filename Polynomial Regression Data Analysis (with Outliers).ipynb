{
 "cells": [
  {
   "cell_type": "markdown",
   "id": "9e5af84d",
   "metadata": {},
   "source": [
    "### Polynomial Regression (with Outliers)"
   ]
  },
  {
   "cell_type": "code",
   "execution_count": 1,
   "id": "d8c5d563",
   "metadata": {},
   "outputs": [
    {
     "name": "stdout",
     "output_type": "stream",
     "text": [
      "Degree = 2\n",
      "Training MSE for degree 2 = 0.0003871091274112671\n",
      "Testing MSE for degree 2 = 0.0022201753875286923\n",
      "Degree = 3\n",
      "Training MSE for degree 3 = 0.00032094422643738163\n",
      "Testing MSE for degree 3 = 0.002171320176476008\n",
      "Degree = 4\n",
      "Training MSE for degree 4 = 0.0002662630614673965\n",
      "Testing MSE for degree 4 = 0.0026706752716156535\n",
      "Degree = 5\n",
      "Training MSE for degree 5 = 0.0002293935357404074\n",
      "Testing MSE for degree 5 = 0.01407138082923959\n",
      "Degree = 6\n",
      "Training MSE for degree 6 = 0.00020325148277141269\n",
      "Testing MSE for degree 6 = 0.7436944865462277\n",
      "Degree = 7\n",
      "Training MSE for degree 7 = 0.00017568725394620125\n",
      "Testing MSE for degree 7 = 15694.167724719007\n",
      "Degree = 8\n",
      "Training MSE for degree 8 = 0.00015000909307120934\n",
      "Testing MSE for degree 8 = 3302357.643135973\n"
     ]
    }
   ],
   "source": [
    "import numpy as np\n",
    "import operator\n",
    "import pandas as pd\n",
    "import matplotlib.pyplot as plt\n",
    "import seaborn as sns\n",
    "from scipy import stats\n",
    "from sklearn.metrics import mean_squared_error\n",
    "from sklearn.model_selection import train_test_split\n",
    "from sklearn.neural_network import MLPClassifier\n",
    "from sklearn.preprocessing import MinMaxScaler \n",
    "from sklearn.preprocessing import LabelEncoder \n",
    "from sklearn.preprocessing import OneHotEncoder\n",
    "from sklearn.preprocessing import PolynomialFeatures\n",
    "from sklearn.linear_model import LinearRegression\n",
    "\n",
    "def min_max_normalization(x) :\n",
    "    x_min = min(x)\n",
    "    x_max = max(x)\n",
    "    x = [(a - x_min)/(x_max - x_min) for a in x]\n",
    "    return x\n",
    "\n",
    "#Independent variables: numOfBathrooms, avgSchoolRating, numOfBedrooms, numOfHighSchools, and livingAreaSqFt\n",
    "#Dependent varaibles: lateestPrice\n",
    "\n",
    "\n",
    "df = pd.read_csv('austinHousingData.csv')\n",
    "df_filtered = df[['numOfBathrooms', 'avgSchoolRating', 'numOfBedrooms', 'numOfHighSchools', 'livingAreaSqFt', 'latestPrice', 'MedianStudentsPerTeacher']]\n",
    "'''z = np.abs(stats.zscore(df_filtered))\n",
    "threshold = 3\n",
    "df_filtered_o = df_filtered[(z < threshold).all(axis=1)]\n",
    "df_p = df_filtered_o.sample(len(df_filtered_o), random_state=25)'''\n",
    "X_col = ['numOfBathrooms', 'avgSchoolRating', 'numOfBedrooms', 'numOfHighSchools', 'livingAreaSqFt', 'MedianStudentsPerTeacher']\n",
    "X = df_filtered[X_col]\n",
    "\n",
    "\n",
    "sc_X = MinMaxScaler()\n",
    "X = sc_X.fit_transform(X)\n",
    "\n",
    "Y = df_filtered.latestPrice\n",
    "\n",
    "Y = min_max_normalization(Y)\n",
    "\n",
    "for degree in range(2, 9):\n",
    "    poly = PolynomialFeatures(degree)\n",
    "    X_poly = poly.fit_transform(X)\n",
    "\n",
    "    tSize = int(len(df_filtered)*0.1)\n",
    "    #X_poly_train, X_poly_test, Y_train, Y_test = train_test_split(X_poly, Y, train_size = 0.9, random_state = 1)#X_poly[:-tSize], X_poly[-tSize:], Y[:-tSize], Y[-tSize:]\n",
    "    X_poly_train, X_poly_test, Y_train, Y_test = X_poly[:-tSize], X_poly[-tSize:], Y[:-tSize], Y[-tSize:]\n",
    "\n",
    "    model = LinearRegression()\n",
    "    model.fit(X_poly_train, Y_train)\n",
    "\n",
    "    Y_train_pred = model.predict(X_poly_train)\n",
    "    Y_test_pred = model.predict(X_poly_test)\n",
    "\n",
    "    mse_train = mean_squared_error(Y_train,Y_train_pred)\n",
    "    mse_test = mean_squared_error(Y_test,Y_test_pred)\n",
    "    print(\"Degree =\", degree)\n",
    "    print(\"Training MSE for degree\", degree, \"=\", mse_train)\n",
    "    print(\"Testing MSE for degree\", degree, \"=\", mse_test)"
   ]
  },
  {
   "cell_type": "markdown",
   "id": "fb3c4e2c",
   "metadata": {},
   "source": []
  }
 ],
 "metadata": {
  "kernelspec": {
   "display_name": "Python 3",
   "language": "python",
   "name": "python3"
  },
  "language_info": {
   "codemirror_mode": {
    "name": "ipython",
    "version": 3
   },
   "file_extension": ".py",
   "mimetype": "text/x-python",
   "name": "python",
   "nbconvert_exporter": "python",
   "pygments_lexer": "ipython3",
   "version": "3.8.8"
  }
 },
 "nbformat": 4,
 "nbformat_minor": 5
}
