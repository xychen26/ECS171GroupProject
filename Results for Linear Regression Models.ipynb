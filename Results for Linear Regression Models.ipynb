{
 "cells": [
  {
   "cell_type": "code",
   "execution_count": 62,
   "metadata": {},
   "outputs": [],
   "source": [
    "import pandas as pd\n",
    "import numpy as np\n",
    "import seaborn as sns\n",
    "import matplotlib.pyplot as plt\n",
    "from sklearn.linear_model import LinearRegression\n",
    "from sklearn.metrics import mean_squared_error"
   ]
  },
  {
   "cell_type": "markdown",
   "metadata": {},
   "source": [
    "Simple Linear Regression Model\n",
    "\n",
    "Uses living area square footage to predict the latest price"
   ]
  },
  {
   "cell_type": "code",
   "execution_count": 64,
   "metadata": {},
   "outputs": [
    {
     "name": "stdout",
     "output_type": "stream",
     "text": [
      "The simple testing MSE is:   0.0031034538994231665\n",
      "The simple training MSE is:  0.0007533569972620845\n"
     ]
    }
   ],
   "source": [
    "def min_max_normalization(x) :\n",
    "    x_min = min(x)\n",
    "    x_max = max(x)\n",
    "    x = [(a - x_min)/(x_max - x_min) for a in x]\n",
    "    return x\n",
    "austin_df = pd.read_csv('austinHousingData.csv')\n",
    "austin_simple_lin = austin_df[['livingAreaSqFt', 'latestPrice']]\n",
    "\n",
    "austin_simple_train = austin_simple_lin.sample(frac = 0.8, random_state = 22)\n",
    "austin_simple_test = austin_simple_lin.drop(austin_simple_train.index)\n",
    "\n",
    "x_df = austin_simple_train[['livingAreaSqFt']]\n",
    "x_train = x_df.to_numpy()\n",
    "y_df = austin_simple_train[['latestPrice']]\n",
    "\n",
    "y_train = y_df.to_numpy().flatten()\n",
    "x_df_test = austin_simple_test[['livingAreaSqFt']]\n",
    "x_test = x_df_test.to_numpy()\n",
    "y_df_test = austin_simple_test[['latestPrice']]\n",
    "\n",
    "y_test = y_df_test.to_numpy().flatten()\n",
    "\n",
    "y_test = min_max_normalization(y_test)\n",
    "y_train = min_max_normalization(y_train)\n",
    "\n",
    "lin_model = LinearRegression()\n",
    "lin_model.fit(x_train,y_train)\n",
    "\n",
    "y_pred_train = lin_model.predict(x_train)\n",
    "y_pred_test = lin_model.predict(x_test)\n",
    "\n",
    "mse_simple_train = mean_squared_error(y_train, y_pred_train)\n",
    "mse_simple_test = mean_squared_error(y_test, y_pred_test)\n",
    "print(\"The simple testing MSE is:  \", mse_simple_test)\n",
    "print(\"The simple training MSE is: \", mse_simple_train)"
   ]
  },
  {
   "cell_type": "markdown",
   "metadata": {},
   "source": [
    "Multivariate Linear Regression Model\n",
    "\n",
    "Uses multiple variable to predict the latest price"
   ]
  },
  {
   "cell_type": "code",
   "execution_count": 61,
   "metadata": {},
   "outputs": [
    {
     "name": "stdout",
     "output_type": "stream",
     "text": [
      "The multi testing MSE is:   0.0026126372082117054\n",
      "The multi training MSE is:   0.001161543841697301\n"
     ]
    }
   ],
   "source": [
    "austin_df = pd.read_csv('austinHousingData.csv')\n",
    "austin_multi_lin = austin_df[['livingAreaSqFt', 'numOfBathrooms', 'avgSchoolRating', 'numOfBedrooms', 'numOfHighSchools', 'MedianStudentsPerTeacher', 'latestPrice']]\n",
    "\n",
    "austin_multi_train = austin_multi_lin.sample(frac = 0.8, random_state = 23)\n",
    "austin_multi_test = austin_multi_lin.drop(austin_multi_train.index)\n",
    "\n",
    "x_df = austin_multi_train.drop(columns = ['latestPrice'])\n",
    "x_train = x_df.to_numpy()\n",
    "\n",
    "y_df = austin_simple_train[['latestPrice']]\n",
    "y_train = y_df.to_numpy().flatten()\n",
    "\n",
    "x_df_test = austin_multi_test.drop(columns = ['latestPrice'])\n",
    "x_test = x_df_test.to_numpy()\n",
    "\n",
    "y_df_test = austin_simple_test[['latestPrice']]\n",
    "y_test = y_df_test.to_numpy().flatten()\n",
    "\n",
    "y_test = min_max_normalization(y_test)\n",
    "y_train = min_max_normalization(y_train)\n",
    "\n",
    "lin_model = LinearRegression()\n",
    "lin_model.fit(x_train,y_train)\n",
    "\n",
    "y_pred_train = lin_model.predict(x_train)\n",
    "y_pred_test = lin_model.predict(x_test)\n",
    "\n",
    "\n",
    "mse_multi_train = mean_squared_error(y_train, y_pred_train)\n",
    "mse_multi_test = mean_squared_error(y_test, y_pred_test)\n",
    "\n",
    "print(\"The multi testing MSE is:  \", mse_multi_test)\n",
    "print(\"The multi training MSE is:  \", mse_multi_train)\n"
   ]
  },
  {
   "cell_type": "code",
   "execution_count": null,
   "metadata": {},
   "outputs": [],
   "source": []
  }
 ],
 "metadata": {
  "kernelspec": {
   "display_name": "Python 3",
   "language": "python",
   "name": "python3"
  },
  "language_info": {
   "codemirror_mode": {
    "name": "ipython",
    "version": 3
   },
   "file_extension": ".py",
   "mimetype": "text/x-python",
   "name": "python",
   "nbconvert_exporter": "python",
   "pygments_lexer": "ipython3",
   "version": "3.8.5"
  }
 },
 "nbformat": 4,
 "nbformat_minor": 4
}
