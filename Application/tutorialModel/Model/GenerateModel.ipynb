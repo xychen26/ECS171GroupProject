{
 "cells": [
  {
   "cell_type": "markdown",
   "id": "338e171b",
   "metadata": {},
   "source": [
    "This code generates the model needed for the tutorial website\n",
    "\n",
    "[Startups data set taken from here](https://www.kaggle.com/karthickveerakumar/startup-logistic-regression)"
   ]
  },
  {
   "cell_type": "code",
   "execution_count": 6,
   "id": "227d6853",
   "metadata": {},
   "outputs": [
    {
     "data": {
      "text/plain": [
       "['regressor.sav']"
      ]
     },
     "execution_count": 6,
     "metadata": {},
     "output_type": "execute_result"
    }
   ],
   "source": [
    "import pandas\n",
    "import numpy\n",
    "import joblib\n",
    "from sklearn.preprocessing import OrdinalEncoder\n",
    "from sklearn.preprocessing import OneHotEncoder\n",
    "from sklearn.model_selection import train_test_split\n",
    "from sklearn.linear_model import LinearRegression\n",
    "\n",
    "data = pandas.read_csv(\"50_Startups.csv\")\n",
    "\n",
    "stateEncoder = OneHotEncoder(sparse=False)\n",
    "stateEncoded = pandas.DataFrame(stateEncoder.fit_transform(data[\"State\"].values.ravel().reshape(-1,1)))\n",
    "\n",
    "\n",
    "data.drop(['State'], inplace=True, axis=1)\n",
    "\n",
    "data = pandas.merge(data, stateEncoded, right_index=True, left_index=True)\n",
    "\n",
    "train, test = train_test_split(data, train_size=.9, random_state=80)\n",
    "\n",
    "test.to_csv(\"testData.csv\")\n",
    "train.to_csv(\"trainData.csv\")\n",
    "joblib.dump(stateEncoder, \"stateEncoder.sav\")\n",
    "\n",
    "regressor = LinearRegression()\n",
    "\n",
    "regressor.fit(train.drop(['Profit'], axis=1), train['Profit'])\n",
    "\n",
    "joblib.dump(regressor, \"regressor.sav\")"
   ]
  },
  {
   "cell_type": "markdown",
   "id": "c620df91",
   "metadata": {},
   "source": [
    "**The following is an example of reading in the information and predicting it**"
   ]
  },
  {
   "cell_type": "code",
   "execution_count": 31,
   "id": "b176e7c8",
   "metadata": {},
   "outputs": [
    {
     "name": "stdout",
     "output_type": "stream",
     "text": [
      "[ 64172.36873597  73863.52619703  97148.35840946 101773.65074959\n",
      " 110274.3321735 ]\n",
      "0     65200.33\n",
      "1     90708.19\n",
      "2     96778.92\n",
      "3    101004.64\n",
      "4    105733.54\n",
      "Name: Profit, dtype: float64\n"
     ]
    }
   ],
   "source": [
    "import pandas\n",
    "import joblib\n",
    "\n",
    "test = pandas.read_csv(\"testData.csv\")\n",
    "regressor = joblib.load(\"regressor.sav\")\n",
    "\n",
    "testData = test.drop([\"Unnamed: 0\", \"Profit\"], axis=1)\n",
    "testTrue = test[\"Profit\"]\n",
    "\n",
    "print(regressor.predict(testData))\n",
    "print(testTrue)\n"
   ]
  },
  {
   "cell_type": "code",
   "execution_count": 29,
   "id": "51b388f1",
   "metadata": {},
   "outputs": [
    {
     "data": {
      "text/html": [
       "<div>\n",
       "<style scoped>\n",
       "    .dataframe tbody tr th:only-of-type {\n",
       "        vertical-align: middle;\n",
       "    }\n",
       "\n",
       "    .dataframe tbody tr th {\n",
       "        vertical-align: top;\n",
       "    }\n",
       "\n",
       "    .dataframe thead th {\n",
       "        text-align: right;\n",
       "    }\n",
       "</style>\n",
       "<table border=\"1\" class=\"dataframe\">\n",
       "  <thead>\n",
       "    <tr style=\"text-align: right;\">\n",
       "      <th></th>\n",
       "      <th>RD_Spend</th>\n",
       "      <th>Administration</th>\n",
       "      <th>Marketing_Spend</th>\n",
       "      <th>Profit</th>\n",
       "      <th>State</th>\n",
       "    </tr>\n",
       "  </thead>\n",
       "  <tbody>\n",
       "    <tr>\n",
       "      <th>0</th>\n",
       "      <td>22177.74</td>\n",
       "      <td>154806.14</td>\n",
       "      <td>28334.72</td>\n",
       "      <td>65200.33</td>\n",
       "      <td>California</td>\n",
       "    </tr>\n",
       "    <tr>\n",
       "      <th>1</th>\n",
       "      <td>28663.76</td>\n",
       "      <td>127056.21</td>\n",
       "      <td>201126.82</td>\n",
       "      <td>90708.19</td>\n",
       "      <td>Florida</td>\n",
       "    </tr>\n",
       "    <tr>\n",
       "      <th>2</th>\n",
       "      <td>55493.95</td>\n",
       "      <td>103057.49</td>\n",
       "      <td>214634.81</td>\n",
       "      <td>96778.92</td>\n",
       "      <td>Florida</td>\n",
       "    </tr>\n",
       "    <tr>\n",
       "      <th>3</th>\n",
       "      <td>65605.48</td>\n",
       "      <td>153032.06</td>\n",
       "      <td>107138.38</td>\n",
       "      <td>101004.64</td>\n",
       "      <td>New York</td>\n",
       "    </tr>\n",
       "    <tr>\n",
       "      <th>4</th>\n",
       "      <td>75328.87</td>\n",
       "      <td>144135.98</td>\n",
       "      <td>134050.07</td>\n",
       "      <td>105733.54</td>\n",
       "      <td>Florida</td>\n",
       "    </tr>\n",
       "  </tbody>\n",
       "</table>\n",
       "</div>"
      ],
      "text/plain": [
       "   RD_Spend  Administration  Marketing_Spend     Profit       State\n",
       "0  22177.74       154806.14         28334.72   65200.33  California\n",
       "1  28663.76       127056.21        201126.82   90708.19     Florida\n",
       "2  55493.95       103057.49        214634.81   96778.92     Florida\n",
       "3  65605.48       153032.06        107138.38  101004.64    New York\n",
       "4  75328.87       144135.98        134050.07  105733.54     Florida"
      ]
     },
     "execution_count": 29,
     "metadata": {},
     "output_type": "execute_result"
    }
   ],
   "source": [
    "import pandas\n",
    "import joblib\n",
    "test = pandas.read_csv(\"testData.csv\")\n",
    "encoder = joblib.load(\"stateEncoder.sav\")\n",
    "\n",
    "testEncoded = test.drop(['RD_Spend', 'Administration', 'Marketing_Spend', 'Profit', 'Unnamed: 0'], axis=1)\n",
    "\n",
    "testEncoded = encoder.inverse_transform(testEncoded)\n",
    "test.drop(['0','1','2'], axis=1, inplace=True)\n",
    "testData = pandas.merge(test.drop(['Unnamed: 0'], axis=1), pandas.DataFrame(testEncoded), right_index=True, left_index=True)\n",
    "\n",
    "testData[\"State\"] = testData[0]\n",
    "testData.drop([0], axis=1, inplace=True)\n",
    "testData"
   ]
  },
  {
   "cell_type": "code",
   "execution_count": 28,
   "id": "8386e445",
   "metadata": {},
   "outputs": [
    {
     "data": {
      "text/plain": [
       "array([[1., 0., 0.]])"
      ]
     },
     "execution_count": 28,
     "metadata": {},
     "output_type": "execute_result"
    }
   ],
   "source": [
    "encoder.transform([[\"California\"]])"
   ]
  }
 ],
 "metadata": {
  "kernelspec": {
   "display_name": "Python 3",
   "language": "python",
   "name": "python3"
  },
  "language_info": {
   "codemirror_mode": {
    "name": "ipython",
    "version": 3
   },
   "file_extension": ".py",
   "mimetype": "text/x-python",
   "name": "python",
   "nbconvert_exporter": "python",
   "pygments_lexer": "ipython3",
   "version": "3.8.8"
  }
 },
 "nbformat": 4,
 "nbformat_minor": 5
}
