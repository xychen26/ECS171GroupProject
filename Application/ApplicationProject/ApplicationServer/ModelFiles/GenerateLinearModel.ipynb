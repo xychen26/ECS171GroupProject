{
 "cells": [
  {
   "cell_type": "code",
   "execution_count": 16,
   "metadata": {},
   "outputs": [
    {
     "data": {
      "text/plain": [
       "['LinearModel.sav']"
      ]
     },
     "execution_count": 16,
     "metadata": {},
     "output_type": "execute_result"
    }
   ],
   "source": [
    "import numpy as np\n",
    "import pandas as pd\n",
    "from sklearn.model_selection import train_test_split\n",
    "from sklearn.preprocessing import MinMaxScaler \n",
    "from scipy import stats\n",
    "from sklearn.linear_model import LinearRegression\n",
    "import joblib\n",
    "\n",
    "df = pd.read_csv('austinHousingData.csv')\n",
    "df_filtered = df[['livingAreaSqFt', 'latestPrice']]\n",
    "\n",
    "z = np.abs(stats.zscore(df_filtered))\n",
    "threshold = 2\n",
    "df_filtered_o = df_filtered[(z < threshold).all(axis=1)]\n",
    "\n",
    "X = df_filtered_o.livingAreaSqFt\n",
    "y = df_filtered_o.latestPrice\n",
    "X = X.to_numpy()\n",
    "y = y.to_numpy()\n",
    "\n",
    "\n",
    "X_train, X_test, y_train, y_test = train_test_split(X,y,random_state=1, test_size=0.2)\n",
    "sc = MinMaxScaler()\n",
    "X_train = X_train.reshape(-1, 1)\n",
    "X_test = X_test.reshape(-1, 1)\n",
    "y_train = y_train.reshape(-1, 1)\n",
    "y_test = y_test.reshape(-1, 1)\n",
    "X_trainscaled=sc.fit_transform(X_train)\n",
    "X_testscaled=sc.fit_transform(X_test)\n",
    "y_trainscaled=sc.fit_transform(y_train)\n",
    "y_testscaled=sc.fit_transform(y_test)\n",
    "\n",
    "lin_model = LinearRegression()\n",
    "lin_model.fit(X_train,y_train)\n",
    "\n",
    "X_df = pd.DataFrame(X_test)\n",
    "X_df.rename(columns = {0:'livingAreaSqFt'}, inplace = True)\n",
    "y_df = pd.DataFrame(y_test)\n",
    "y_df.rename(columns = {0:'latestPrice'}, inplace = True)\n",
    "test = y_df.join(X_df)\n",
    "test.to_csv(\"Linear_test.csv\")\n",
    "\n",
    "joblib.dump(lin_model, \"LinearModel.sav\")"
   ]
  },
  {
   "cell_type": "code",
   "execution_count": null,
   "metadata": {},
   "outputs": [],
   "source": []
  }
 ],
 "metadata": {
  "interpreter": {
   "hash": "d27a5baf7910b7cb5e45da39ccef6981940db320d548ea3f6e8aa0924d24c40c"
  },
  "kernelspec": {
   "display_name": "Python 3",
   "language": "python",
   "name": "python3"
  },
  "language_info": {
   "codemirror_mode": {
    "name": "ipython",
    "version": 3
   },
   "file_extension": ".py",
   "mimetype": "text/x-python",
   "name": "python",
   "nbconvert_exporter": "python",
   "pygments_lexer": "ipython3",
   "version": "3.8.5"
  }
 },
 "nbformat": 4,
 "nbformat_minor": 2
}
