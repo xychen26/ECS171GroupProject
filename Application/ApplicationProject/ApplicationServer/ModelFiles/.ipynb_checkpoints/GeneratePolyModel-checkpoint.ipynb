{
 "cells": [
  {
   "cell_type": "code",
   "execution_count": 1,
   "metadata": {},
   "outputs": [
    {
     "name": "stdout",
     "output_type": "stream",
     "text": [
      "Training MSE for degree 2 = 0.007679157581606601\n",
      "Testing MSE for degree 2 = 0.03844624957358749 \n",
      "\n",
      "Training MSE for degree 3 = 0.007425464090447762\n",
      "Testing MSE for degree 3 = 0.0363898391569811 \n",
      "\n",
      "Training MSE for degree 4 = 0.007210704416815869\n",
      "Testing MSE for degree 4 = 0.03841091371152194 \n",
      "\n",
      "Training MSE for degree 5 = 0.009064771727103958\n",
      "Testing MSE for degree 5 = 0.13058023391002613 \n",
      "\n",
      "Training MSE for degree 6 = 0.007217899081642155\n",
      "Testing MSE for degree 6 = 0.04180482553235436 \n",
      "\n",
      "Training MSE for degree 7 = 0.00849712357977055\n",
      "Testing MSE for degree 7 = 0.17788952862342 \n",
      "\n",
      "Training MSE for degree 8 = 0.008930166465545872\n",
      "Testing MSE for degree 8 = 0.22092506911061327 \n",
      "\n",
      "Training MSE for degree 9 = 0.008332126367766408\n",
      "Testing MSE for degree 9 = 0.06471608443226295 \n",
      "\n",
      "Training MSE for degree 10 = 0.010043715515754045\n",
      "Testing MSE for degree 10 = 0.21442007397684637 \n",
      "\n"
     ]
    },
    {
     "data": {
      "text/plain": [
       "['PolyModel10.sav']"
      ]
     },
     "execution_count": 1,
     "metadata": {},
     "output_type": "execute_result"
    }
   ],
   "source": [
    "import numpy as np\n",
    "import operator\n",
    "import pandas as pd\n",
    "import matplotlib.pyplot as plt\n",
    "from sklearn.metrics import mean_squared_error\n",
    "from sklearn.model_selection import train_test_split\n",
    "from sklearn.preprocessing import MinMaxScaler \n",
    "from sklearn.preprocessing import PolynomialFeatures\n",
    "from sklearn.linear_model import LinearRegression\n",
    "from scipy import stats\n",
    "import joblib\n",
    "\n",
    "def min_max_normalization(x) :\n",
    "    x_min = min(x)\n",
    "    x_max = max(x)\n",
    "    x = [(a - x_min)/(x_max - x_min) for a in x]\n",
    "    return x\n",
    "\n",
    "#Independent variables: livingAreaSqFt, numOfBathrooms, avgSchoolRating, numOfBedrooms, numOfHighSchools, and MedianStudentsPerTeacher\n",
    "#Dependent varaibles: lateestPrice\n",
    "\n",
    "df = pd.read_csv('austinHousingData.csv')\n",
    "df_filtered = df[['livingAreaSqFt','numOfBathrooms', 'avgSchoolRating', 'numOfBedrooms', 'numOfHighSchools', 'MedianStudentsPerTeacher', 'latestPrice']]\n",
    "\n",
    "z = np.abs(stats.zscore(df_filtered))\n",
    "threshold = 3\n",
    "df_filtered_o = df_filtered[(z < threshold).all(axis=1)]\n",
    "\n",
    "X = df_filtered_o[['livingAreaSqFt', 'numOfBathrooms', 'avgSchoolRating', 'numOfBedrooms', 'numOfHighSchools', 'MedianStudentsPerTeacher']]\n",
    "y = df_filtered_o.latestPrice\n",
    "df_filtered_o.to_csv(\"Poly_test.csv\")\n",
    "y = y.to_numpy()\n",
    "\n",
    "def createPolyModel(degree, X, y):\n",
    "    y = min_max_normalization(y)\n",
    "    poly = PolynomialFeatures(degree)\n",
    "    X_poly = poly.fit_transform(X)\n",
    "\n",
    "    tSize = int(len(df)*0.1)\n",
    "    X_poly_train, X_poly_test, y_train, y_test = X_poly[:-tSize], X_poly[-tSize:], y[:-tSize], y[-tSize:]\n",
    "    \n",
    "    model = LinearRegression()\n",
    "    model.fit(X_poly_train, y_train)\n",
    "\n",
    "    y_train_pred = model.predict(X_poly_train)\n",
    "    y_test_pred = model.predict(X_poly_test)\n",
    "\n",
    "    mse_train = mean_squared_error(y_train,y_train_pred)\n",
    "    mse_test = mean_squared_error(y_test,y_test_pred)\n",
    "    print(\"Training MSE for degree\", degree, \"=\", mse_train)\n",
    "    print(\"Testing MSE for degree\", degree, \"=\", mse_test, \"\\n\")\n",
    "    return model\n",
    "\n",
    "joblib.dump(createPolyModel(2,X,y), \"PolyModel2.sav\")\n",
    "joblib.dump(createPolyModel(3,X,y), \"PolyModel3.sav\")\n",
    "joblib.dump(createPolyModel(4,X,y), \"PolyModel4.sav\")\n",
    "joblib.dump(createPolyModel(5,X,y), \"PolyModel5.sav\")\n",
    "joblib.dump(createPolyModel(6,X,y), \"PolyModel6.sav\")\n",
    "joblib.dump(createPolyModel(7,X,y), \"PolyModel7.sav\")\n",
    "joblib.dump(createPolyModel(8,X,y), \"PolyModel8.sav\")\n",
    "joblib.dump(createPolyModel(9,X,y), \"PolyModel9.sav\")\n",
    "joblib.dump(createPolyModel(10,X,y), \"PolyModel10.sav\")"
   ]
  },
  {
   "cell_type": "code",
   "execution_count": null,
   "metadata": {},
   "outputs": [],
   "source": []
  }
 ],
 "metadata": {
  "kernelspec": {
   "display_name": "Python 3",
   "language": "python",
   "name": "python3"
  },
  "language_info": {
   "codemirror_mode": {
    "name": "ipython",
    "version": 3
   },
   "file_extension": ".py",
   "mimetype": "text/x-python",
   "name": "python",
   "nbconvert_exporter": "python",
   "pygments_lexer": "ipython3",
   "version": "3.8.8"
  }
 },
 "nbformat": 4,
 "nbformat_minor": 4
}
