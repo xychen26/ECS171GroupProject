{
 "cells": [
  {
   "cell_type": "code",
   "execution_count": 10,
   "metadata": {},
   "outputs": [
    {
     "name": "stdout",
     "output_type": "stream",
     "text": [
      "Training MSE for degree 2 = 0.009146443807497219\n",
      "Testing MSE for degree 2 = 0.03902550365777494 \n",
      "\n",
      "Training MSE for degree 3 = 0.008844474843473024\n",
      "Testing MSE for degree 3 = 0.036881504586442834 \n",
      "\n",
      "Training MSE for degree 4 = 0.00852585520851768\n",
      "Testing MSE for degree 4 = 0.035876898563775454 \n",
      "\n",
      "Training MSE for degree 5 = 0.008220391001256887\n",
      "Testing MSE for degree 5 = 0.03429538262919712 \n",
      "\n",
      "Training MSE for degree 6 = 0.008070095601069223\n",
      "Testing MSE for degree 6 = 0.03404204459494975 \n",
      "\n",
      "Training MSE for degree 7 = 0.007650372564108174\n",
      "Testing MSE for degree 7 = 0.03218727300123978 \n",
      "\n",
      "Training MSE for degree 8 = 0.007347875523953226\n",
      "Testing MSE for degree 8 = 0.09929094044958985 \n",
      "\n",
      "Training MSE for degree 9 = 0.007043165250374688\n",
      "Testing MSE for degree 9 = 20.055278464305456 \n",
      "\n",
      "Training MSE for degree 10 = 0.006779514831762393\n",
      "Testing MSE for degree 10 = 93.70954131663906 \n",
      "\n"
     ]
    },
    {
     "data": {
      "text/plain": [
       "['PolyModel10.sav']"
      ]
     },
     "execution_count": 10,
     "metadata": {},
     "output_type": "execute_result"
    }
   ],
   "source": [
    "import numpy as np\n",
    "import operator\n",
    "import pandas as pd\n",
    "import matplotlib.pyplot as plt\n",
    "from sklearn.metrics import mean_squared_error\n",
    "from sklearn.model_selection import train_test_split\n",
    "from sklearn.preprocessing import MinMaxScaler \n",
    "from sklearn.preprocessing import PolynomialFeatures\n",
    "from sklearn.linear_model import LinearRegression\n",
    "from scipy import stats\n",
    "import joblib\n",
    "\n",
    "def min_max_normalization(x) :\n",
    "    x_min = min(x)\n",
    "    x_max = max(x)\n",
    "    x = [(a - x_min)/(x_max - x_min) for a in x]\n",
    "    return x\n",
    "\n",
    "#Independent variables: numOfBathrooms, avgSchoolRating, numOfBedrooms, numOfHighSchools, and MedianStudentsPerTeacher\n",
    "#Dependent varaibles: lateestPrice\n",
    "\n",
    "df = pd.read_csv('austinHousingData.csv')\n",
    "df_filtered = df[['numOfBathrooms', 'avgSchoolRating', 'numOfBedrooms', 'numOfHighSchools', 'MedianStudentsPerTeacher', 'latestPrice']]\n",
    "\n",
    "z = np.abs(stats.zscore(df_filtered))\n",
    "threshold = 3\n",
    "df_filtered_o = df_filtered[(z < threshold).all(axis=1)]\n",
    "\n",
    "X = df_filtered_o[['numOfBathrooms', 'avgSchoolRating', 'numOfBedrooms', 'numOfHighSchools', 'MedianStudentsPerTeacher']]\n",
    "y = df_filtered_o.latestPrice\n",
    "X.to_csv(\"Poly_X_Test\")\n",
    "y.to_csv(\"Poly_y_Test\")\n",
    "y = y.to_numpy()\n",
    "\n",
    "def createPolyModel(degree, X, y):\n",
    "    y = min_max_normalization(y)\n",
    "    poly = PolynomialFeatures(degree)\n",
    "    X_poly = poly.fit_transform(X)\n",
    "\n",
    "    tSize = int(len(df)*0.1)\n",
    "    X_poly_train, X_poly_test, y_train, y_test = X_poly[:-tSize], X_poly[-tSize:], y[:-tSize], y[-tSize:]\n",
    "    \n",
    "    model = LinearRegression()\n",
    "    model.fit(X_poly_train, y_train)\n",
    "\n",
    "    y_train_pred = model.predict(X_poly_train)\n",
    "    y_test_pred = model.predict(X_poly_test)\n",
    "\n",
    "    mse_train = mean_squared_error(y_train,y_train_pred)\n",
    "    mse_test = mean_squared_error(y_test,y_test_pred)\n",
    "    print(\"Training MSE for degree\", degree, \"=\", mse_train)\n",
    "    print(\"Testing MSE for degree\", degree, \"=\", mse_test, \"\\n\")\n",
    "    return model\n",
    "\n",
    "joblib.dump(createPolyModel(2,X,y), \"PolyModel2.sav\")\n",
    "joblib.dump(createPolyModel(3,X,y), \"PolyModel3.sav\")\n",
    "joblib.dump(createPolyModel(4,X,y), \"PolyModel4.sav\")\n",
    "joblib.dump(createPolyModel(5,X,y), \"PolyModel5.sav\")\n",
    "joblib.dump(createPolyModel(6,X,y), \"PolyModel6.sav\")\n",
    "joblib.dump(createPolyModel(7,X,y), \"PolyModel7.sav\")\n",
    "joblib.dump(createPolyModel(8,X,y), \"PolyModel8.sav\")\n",
    "joblib.dump(createPolyModel(9,X,y), \"PolyModel9.sav\")\n",
    "joblib.dump(createPolyModel(10,X,y), \"PolyModel10.sav\")"
   ]
  },
  {
   "cell_type": "code",
   "execution_count": null,
   "metadata": {},
   "outputs": [],
   "source": []
  }
 ],
 "metadata": {
  "kernelspec": {
   "display_name": "Python 3",
   "language": "python",
   "name": "python3"
  },
  "language_info": {
   "codemirror_mode": {
    "name": "ipython",
    "version": 3
   },
   "file_extension": ".py",
   "mimetype": "text/x-python",
   "name": "python",
   "nbconvert_exporter": "python",
   "pygments_lexer": "ipython3",
   "version": "3.8.5"
  }
 },
 "nbformat": 4,
 "nbformat_minor": 4
}
