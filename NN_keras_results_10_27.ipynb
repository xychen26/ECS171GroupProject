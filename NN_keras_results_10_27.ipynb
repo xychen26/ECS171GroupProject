{
 "cells": [
  {
   "cell_type": "code",
   "execution_count": 241,
   "id": "1826cacd",
   "metadata": {},
   "outputs": [],
   "source": [
    "import numpy as np\n",
    "import operator\n",
    "import pandas as pd\n",
    "from sklearn.metrics import mean_squared_error\n",
    "from sklearn.model_selection import train_test_split\n",
    "from sklearn.preprocessing import MinMaxScaler \n",
    "\n",
    "df = pd.read_csv('austinHousingData.csv')\n",
    "labelsToRemove = ['zpid', 'city', 'streetAddress', 'latitude', 'longitude', 'homeType', 'description', 'hasGarage', 'numPriceChanges', 'latest_saledate', 'latest_salemonth', 'latest_saleyear', 'latestPriceSource', 'numOfPhotos', 'homeImage']\n",
    "\n",
    "df.drop(labelsToRemove, axis = 1, inplace=True)\n",
    "\n",
    "X = df.drop(columns=['latestPrice'])\n",
    "y = df.latestPrice\n",
    "y = y.to_numpy()"
   ]
  },
  {
   "cell_type": "code",
   "execution_count": 242,
   "id": "23a1a795",
   "metadata": {},
   "outputs": [
    {
     "name": "stdout",
     "output_type": "stream",
     "text": [
      "(12136, 31)\n",
      "(12136, 1)\n",
      "(3035, 31)\n",
      "(3035, 1)\n"
     ]
    }
   ],
   "source": [
    "X_train, X_test, y_train, y_test = train_test_split(X,y,random_state=1, test_size=0.2)\n",
    "sc = MinMaxScaler()\n",
    "y_train = y_train.reshape(-1, 1)\n",
    "y_test = y_test.reshape(-1, 1)\n",
    "X_trainscaled=sc.fit_transform(X_train)\n",
    "X_testscaled=sc.fit_transform(X_test)\n",
    "y_trainscaled=sc.fit_transform(y_train)\n",
    "y_testscaled=sc.fit_transform(y_test)\n",
    "\n",
    "print(X_trainscaled.shape)\n",
    "print(y_trainscaled.shape)\n",
    "print(X_testscaled.shape)\n",
    "print(y_testscaled.shape)"
   ]
  },
  {
   "cell_type": "code",
   "execution_count": 243,
   "id": "20102484",
   "metadata": {},
   "outputs": [
    {
     "name": "stdout",
     "output_type": "stream",
     "text": [
      "Epoch 1/20\n",
      "1214/1214 [==============================] - 1s 661us/step - loss: 0.0073 - accuracy: 8.2399e-05\n",
      "Epoch 2/20\n",
      "1214/1214 [==============================] - 1s 885us/step - loss: 0.0010 - accuracy: 8.2399e-05\n",
      "Epoch 3/20\n",
      "1214/1214 [==============================] - 1s 755us/step - loss: 9.1007e-04 - accuracy: 8.2399e-05\n",
      "Epoch 4/20\n",
      "1214/1214 [==============================] - 1s 659us/step - loss: 8.6134e-04 - accuracy: 8.2399e-05\n",
      "Epoch 5/20\n",
      "1214/1214 [==============================] - 1s 1ms/step - loss: 8.2544e-04 - accuracy: 8.2399e-05\n",
      "Epoch 6/20\n",
      "1214/1214 [==============================] - 1s 814us/step - loss: 8.0729e-04 - accuracy: 8.2399e-05\n",
      "Epoch 7/20\n",
      "1214/1214 [==============================] - 1s 967us/step - loss: 7.8002e-04 - accuracy: 8.2399e-05\n",
      "Epoch 8/20\n",
      "1214/1214 [==============================] - 1s 616us/step - loss: 7.7942e-04 - accuracy: 8.2399e-05\n",
      "Epoch 9/20\n",
      "1214/1214 [==============================] - 1s 586us/step - loss: 7.6394e-04 - accuracy: 8.2399e-05\n",
      "Epoch 10/20\n",
      "1214/1214 [==============================] - 1s 558us/step - loss: 7.4964e-04 - accuracy: 8.2399e-05\n",
      "Epoch 11/20\n",
      "1214/1214 [==============================] - 1s 576us/step - loss: 7.3758e-04 - accuracy: 8.2399e-05\n",
      "Epoch 12/20\n",
      "1214/1214 [==============================] - 1s 579us/step - loss: 7.1795e-04 - accuracy: 8.2399e-05\n",
      "Epoch 13/20\n",
      "1214/1214 [==============================] - 1s 584us/step - loss: 7.0849e-04 - accuracy: 8.2399e-05\n",
      "Epoch 14/20\n",
      "1214/1214 [==============================] - 1s 564us/step - loss: 6.8007e-04 - accuracy: 8.2399e-05\n",
      "Epoch 15/20\n",
      "1214/1214 [==============================] - 1s 666us/step - loss: 6.8517e-04 - accuracy: 8.2399e-05\n",
      "Epoch 16/20\n",
      "1214/1214 [==============================] - 1s 1ms/step - loss: 6.6756e-04 - accuracy: 8.2399e-05\n",
      "Epoch 17/20\n",
      "1214/1214 [==============================] - 1s 621us/step - loss: 6.6526e-04 - accuracy: 8.2399e-05\n",
      "Epoch 18/20\n",
      "1214/1214 [==============================] - 1s 938us/step - loss: 6.4848e-04 - accuracy: 8.2399e-05\n",
      "Epoch 19/20\n",
      "1214/1214 [==============================] - 1s 658us/step - loss: 6.4134e-04 - accuracy: 8.2399e-05\n",
      "Epoch 20/20\n",
      "1214/1214 [==============================] - 1s 1ms/step - loss: 6.3388e-04 - accuracy: 8.2399e-05\n",
      "95/95 [==============================] - 0s 487us/step - loss: 0.0221 - accuracy: 6.5898e-04\n",
      "Accuracy: 0.07\n",
      "Training MSE =  0.0007077653518274542\n",
      "Testing MSE =  0.022073016774513725\n"
     ]
    }
   ],
   "source": [
    "from keras.models import Sequential\n",
    "from keras.layers import Dense\n",
    "\n",
    "model = Sequential()\n",
    "model.add(Dense(10, input_dim=31, activation='relu'))\n",
    "model.add(Dense(10, activation='relu'))\n",
    "model.add(Dense(1, activation='sigmoid'))\n",
    "\n",
    "model.compile(loss='mean_squared_error', optimizer='adam', metrics=['accuracy'])\n",
    "\n",
    "model.fit(X_trainscaled, y_trainscaled, epochs=20, batch_size=10)\n",
    "\n",
    "_, accuracy = model.evaluate(X_testscaled, y_testscaled)\n",
    "print('Accuracy: %.2f' % (accuracy*100))\n",
    "\n",
    "y_trainscaled_pred = model.predict(X_trainscaled)\n",
    "y_testscaled_pred = model.predict(X_testscaled)\n",
    "\n",
    "mse_train = mean_squared_error(y_trainscaled,y_trainscaled_pred)\n",
    "mse_test = mean_squared_error(y_testscaled,y_testscaled_pred)\n",
    "print(\"Training MSE = \", mse_train)\n",
    "print(\"Testing MSE = \", mse_test)"
   ]
  },
  {
   "cell_type": "markdown",
   "id": "e3e0a8a2",
   "metadata": {},
   "source": [
    "#Low accuracy, need updates?"
   ]
  },
  {
   "cell_type": "code",
   "execution_count": null,
   "id": "ae198435",
   "metadata": {},
   "outputs": [],
   "source": []
  }
 ],
 "metadata": {
  "kernelspec": {
   "display_name": "Python 3",
   "language": "python",
   "name": "python3"
  },
  "language_info": {
   "codemirror_mode": {
    "name": "ipython",
    "version": 3
   },
   "file_extension": ".py",
   "mimetype": "text/x-python",
   "name": "python",
   "nbconvert_exporter": "python",
   "pygments_lexer": "ipython3",
   "version": "3.8.8"
  }
 },
 "nbformat": 4,
 "nbformat_minor": 5
}
