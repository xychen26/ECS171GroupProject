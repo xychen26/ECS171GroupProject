{
 "cells": [
  {
   "cell_type": "markdown",
   "id": "3606da19",
   "metadata": {},
   "source": [
    "# Selecting Data Phase"
   ]
  },
  {
   "cell_type": "code",
   "execution_count": 248,
   "id": "be12f8a2",
   "metadata": {},
   "outputs": [],
   "source": [
    "import numpy as np\n",
    "import operator\n",
    "import pandas as pd\n",
    "from sklearn.metrics import mean_squared_error\n",
    "from sklearn.model_selection import train_test_split\n",
    "from sklearn.preprocessing import MinMaxScaler \n",
    "\n",
    "df = pd.read_csv('austinHousingData.csv')\n",
    "labelsToRemove = ['zpid', 'city', 'streetAddress', 'latitude', 'longitude', 'homeType', 'description', 'hasGarage', 'numPriceChanges', 'latest_saledate', 'latest_salemonth', 'latest_saleyear', 'latestPriceSource', 'numOfPhotos', 'homeImage']\n",
    "\n",
    "df.drop(labelsToRemove, axis = 1, inplace=True)\n",
    "\n",
    "X = df.drop(columns=['latestPrice'])\n",
    "y = df.latestPrice\n",
    "y = y.to_numpy()"
   ]
  },
  {
   "cell_type": "markdown",
   "id": "ff0f63c8",
   "metadata": {},
   "source": [
    "# Training Phase"
   ]
  },
  {
   "cell_type": "code",
   "execution_count": 249,
   "id": "00d98723",
   "metadata": {},
   "outputs": [
    {
     "name": "stdout",
     "output_type": "stream",
     "text": [
      "(12136, 31)\n",
      "(12136, 1)\n",
      "(3035, 31)\n",
      "(3035, 1)\n"
     ]
    }
   ],
   "source": [
    "X_train, X_test, y_train, y_test = train_test_split(X,y,random_state=1, test_size=0.2)\n",
    "sc = MinMaxScaler()\n",
    "y_train = y_train.reshape(-1, 1)\n",
    "y_test = y_test.reshape(-1, 1)\n",
    "X_trainscaled=sc.fit_transform(X_train)\n",
    "X_testscaled=sc.fit_transform(X_test)\n",
    "y_trainscaled=sc.fit_transform(y_train)\n",
    "y_testscaled=sc.fit_transform(y_test)\n",
    "\n",
    "print(X_trainscaled.shape)\n",
    "print(y_trainscaled.shape)\n",
    "print(X_testscaled.shape)\n",
    "print(y_testscaled.shape)"
   ]
  },
  {
   "cell_type": "markdown",
   "id": "d3f05961",
   "metadata": {},
   "source": [
    "# Modeling Phase"
   ]
  },
  {
   "cell_type": "code",
   "execution_count": 250,
   "id": "78bc654a",
   "metadata": {},
   "outputs": [
    {
     "name": "stdout",
     "output_type": "stream",
     "text": [
      "Epoch 1/20\n",
      "1214/1214 [==============================] - 1s 851us/step - loss: 0.0253 - accuracy: 8.2399e-05\n",
      "Epoch 2/20\n",
      "1214/1214 [==============================] - 1s 673us/step - loss: 0.0012 - accuracy: 8.2399e-05\n",
      "Epoch 3/20\n",
      "1214/1214 [==============================] - 1s 631us/step - loss: 9.6718e-04 - accuracy: 8.2399e-05\n",
      "Epoch 4/20\n",
      "1214/1214 [==============================] - 1s 625us/step - loss: 9.0314e-04 - accuracy: 8.2399e-05\n",
      "Epoch 5/20\n",
      "1214/1214 [==============================] - 1s 702us/step - loss: 8.5491e-04 - accuracy: 8.2399e-05\n",
      "Epoch 6/20\n",
      "1214/1214 [==============================] - 1s 593us/step - loss: 8.1405e-04 - accuracy: 8.2399e-05\n",
      "Epoch 7/20\n",
      "1214/1214 [==============================] - 1s 602us/step - loss: 7.7215e-04 - accuracy: 8.2399e-05\n",
      "Epoch 8/20\n",
      "1214/1214 [==============================] - 1s 590us/step - loss: 7.3085e-04 - accuracy: 8.2399e-05\n",
      "Epoch 9/20\n",
      "1214/1214 [==============================] - 1s 613us/step - loss: 6.9781e-04 - accuracy: 8.2399e-05\n",
      "Epoch 10/20\n",
      "1214/1214 [==============================] - 1s 724us/step - loss: 6.7578e-04 - accuracy: 8.2399e-05\n",
      "Epoch 11/20\n",
      "1214/1214 [==============================] - 1s 593us/step - loss: 6.5037e-04 - accuracy: 8.2399e-05\n",
      "Epoch 12/20\n",
      "1214/1214 [==============================] - 1s 595us/step - loss: 6.2384e-04 - accuracy: 8.2399e-05\n",
      "Epoch 13/20\n",
      "1214/1214 [==============================] - 1s 585us/step - loss: 6.0891e-04 - accuracy: 8.2399e-05\n",
      "Epoch 14/20\n",
      "1214/1214 [==============================] - 1s 714us/step - loss: 6.0041e-04 - accuracy: 8.2399e-05\n",
      "Epoch 15/20\n",
      "1214/1214 [==============================] - 1s 600us/step - loss: 5.8997e-04 - accuracy: 8.2399e-05\n",
      "Epoch 16/20\n",
      "1214/1214 [==============================] - 1s 598us/step - loss: 5.7196e-04 - accuracy: 8.2399e-05\n",
      "Epoch 17/20\n",
      "1214/1214 [==============================] - 1s 606us/step - loss: 5.6760e-04 - accuracy: 8.2399e-05\n",
      "Epoch 18/20\n",
      "1214/1214 [==============================] - 1s 625us/step - loss: 5.6903e-04 - accuracy: 8.2399e-05\n",
      "Epoch 19/20\n",
      "1214/1214 [==============================] - 1s 640us/step - loss: 5.5503e-04 - accuracy: 8.2399e-05\n",
      "Epoch 20/20\n",
      "1214/1214 [==============================] - 1s 612us/step - loss: 5.4898e-04 - accuracy: 8.2399e-05\n",
      "95/95 [==============================] - 0s 1ms/step - loss: 0.0155 - accuracy: 3.2949e-04\n",
      "Accuracy: 0.03\n",
      "Training MSE =  0.000515245545645765\n",
      "Testing MSE =  0.015543362668875207\n"
     ]
    }
   ],
   "source": [
    "from keras.models import Sequential\n",
    "from keras.layers import Dense\n",
    "\n",
    "model = Sequential()\n",
    "model.add(Dense(10, input_dim=31, activation='relu'))\n",
    "model.add(Dense(10, activation='relu'))\n",
    "model.add(Dense(1, activation='sigmoid'))\n",
    "\n",
    "model.compile(loss='mean_squared_error', optimizer='adam', metrics=['accuracy'])\n",
    "\n",
    "model.fit(X_trainscaled, y_trainscaled, epochs=20, batch_size=10)\n",
    "\n",
    "_, accuracy = model.evaluate(X_testscaled, y_testscaled)\n",
    "print('Accuracy: %.2f' % (accuracy*100))\n",
    "\n",
    "y_trainscaled_pred = model.predict(X_trainscaled)\n",
    "y_testscaled_pred = model.predict(X_testscaled)\n",
    "\n",
    "mse_train = mean_squared_error(y_trainscaled,y_trainscaled_pred)\n",
    "mse_test = mean_squared_error(y_testscaled,y_testscaled_pred)\n",
    "print(\"Training MSE = \", mse_train)\n",
    "print(\"Testing MSE = \", mse_test)"
   ]
  },
  {
   "cell_type": "markdown",
   "id": "ba038158",
   "metadata": {},
   "source": [
    "#Low accuracy, need updates?"
   ]
  },
  {
   "cell_type": "code",
   "execution_count": null,
   "id": "acac5431",
   "metadata": {},
   "outputs": [],
   "source": []
  }
 ],
 "metadata": {
  "kernelspec": {
   "display_name": "Python 3",
   "language": "python",
   "name": "python3"
  },
  "language_info": {
   "codemirror_mode": {
    "name": "ipython",
    "version": 3
   },
   "file_extension": ".py",
   "mimetype": "text/x-python",
   "name": "python",
   "nbconvert_exporter": "python",
   "pygments_lexer": "ipython3",
   "version": "3.8.8"
  }
 },
 "nbformat": 4,
 "nbformat_minor": 5
}
