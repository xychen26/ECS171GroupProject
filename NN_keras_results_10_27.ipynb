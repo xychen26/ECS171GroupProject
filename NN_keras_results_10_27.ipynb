{
 "cells": [
  {
   "cell_type": "code",
   "execution_count": 205,
   "id": "fdbc48ba",
   "metadata": {},
   "outputs": [],
   "source": [
    "import numpy as np\n",
    "import operator\n",
    "import pandas as pd\n",
    "from sklearn.metrics import mean_squared_error\n",
    "from sklearn.model_selection import train_test_split\n",
    "from sklearn.preprocessing import MinMaxScaler \n",
    "\n",
    "df = pd.read_csv('austinHousingData.csv')\n",
    "labelsToRemove = ['zpid', 'city', 'streetAddress', 'latitude', 'longitude', 'description', 'hasGarage', 'numPriceChanges', 'latest_saledate', 'latest_salemonth', 'latest_saleyear', 'latestPriceSource', 'numOfPhotos', 'homeImage']\n",
    "\n",
    "df.drop(labelsToRemove, axis = 1, inplace=True)\n",
    "\n",
    "X = df\n",
    "y = df.latestPrice\n",
    "y = y.to_numpy()"
   ]
  },
  {
   "cell_type": "code",
   "execution_count": 206,
   "id": "03e72d15",
   "metadata": {},
   "outputs": [
    {
     "name": "stdout",
     "output_type": "stream",
     "text": [
      "(12136, 5)\n",
      "(12136, 1)\n",
      "(3035, 5)\n",
      "(3035, 1)\n"
     ]
    }
   ],
   "source": [
    "X_train, X_test, y_train, y_test = train_test_split(X,y,random_state=1, test_size=0.2)\n",
    "sc = MinMaxScaler()\n",
    "y_train = y_train.reshape(-1, 1)\n",
    "y_test = y_test.reshape(-1, 1)\n",
    "X_trainscaled=sc.fit_transform(X_train)\n",
    "X_testscaled=sc.fit_transform(X_test)\n",
    "y_trainscaled=sc.fit_transform(y_train)\n",
    "y_testscaled=sc.fit_transform(y_test)\n",
    "\n",
    "print(X_trainscaled.shape)\n",
    "print(y_trainscaled.shape)\n",
    "print(X_testscaled.shape)\n",
    "print(y_testscaled.shape)"
   ]
  },
  {
   "cell_type": "code",
   "execution_count": 207,
   "id": "4d02438a",
   "metadata": {},
   "outputs": [
    {
     "name": "stdout",
     "output_type": "stream",
     "text": [
      "Epoch 1/20\n",
      "1214/1214 [==============================] - 1s 545us/step - loss: 0.0083 - accuracy: 8.2399e-05\n",
      "Epoch 2/20\n",
      "1214/1214 [==============================] - 1s 861us/step - loss: 0.0012 - accuracy: 8.2399e-05\n",
      "Epoch 3/20\n",
      "1214/1214 [==============================] - 1s 811us/step - loss: 0.0010 - accuracy: 8.2399e-05\n",
      "Epoch 4/20\n",
      "1214/1214 [==============================] - 1s 593us/step - loss: 9.1470e-04 - accuracy: 8.2399e-05\n",
      "Epoch 5/20\n",
      "1214/1214 [==============================] - 1s 659us/step - loss: 8.6670e-04 - accuracy: 8.2399e-05\n",
      "Epoch 6/20\n",
      "1214/1214 [==============================] - 1s 568us/step - loss: 8.3375e-04 - accuracy: 8.2399e-05\n",
      "Epoch 7/20\n",
      "1214/1214 [==============================] - 1s 579us/step - loss: 8.1256e-04 - accuracy: 8.2399e-05\n",
      "Epoch 8/20\n",
      "1214/1214 [==============================] - 1s 550us/step - loss: 7.9519e-04 - accuracy: 8.2399e-05\n",
      "Epoch 9/20\n",
      "1214/1214 [==============================] - 1s 564us/step - loss: 7.8996e-04 - accuracy: 8.2399e-05\n",
      "Epoch 10/20\n",
      "1214/1214 [==============================] - 1s 572us/step - loss: 7.7568e-04 - accuracy: 8.2399e-05\n",
      "Epoch 11/20\n",
      "1214/1214 [==============================] - 1s 571us/step - loss: 7.7471e-04 - accuracy: 8.2399e-05\n",
      "Epoch 12/20\n",
      "1214/1214 [==============================] - 1s 569us/step - loss: 7.6576e-04 - accuracy: 8.2399e-05\n",
      "Epoch 13/20\n",
      "1214/1214 [==============================] - 1s 557us/step - loss: 7.5748e-04 - accuracy: 8.2399e-05\n",
      "Epoch 14/20\n",
      "1214/1214 [==============================] - 1s 555us/step - loss: 7.4865e-04 - accuracy: 8.2399e-05\n",
      "Epoch 15/20\n",
      "1214/1214 [==============================] - 1s 566us/step - loss: 7.4652e-04 - accuracy: 8.2399e-05\n",
      "Epoch 16/20\n",
      "1214/1214 [==============================] - 1s 747us/step - loss: 7.4343e-04 - accuracy: 8.2399e-05\n",
      "Epoch 17/20\n",
      "1214/1214 [==============================] - 1s 711us/step - loss: 7.4390e-04 - accuracy: 8.2399e-05\n",
      "Epoch 18/20\n",
      "1214/1214 [==============================] - 1s 578us/step - loss: 7.3604e-04 - accuracy: 8.2399e-05\n",
      "Epoch 19/20\n",
      "1214/1214 [==============================] - 1s 570us/step - loss: 7.4442e-04 - accuracy: 8.2399e-05\n",
      "Epoch 20/20\n",
      "1214/1214 [==============================] - 1s 567us/step - loss: 7.3159e-04 - accuracy: 8.2399e-05\n",
      "95/95 [==============================] - 0s 520us/step - loss: 0.0107 - accuracy: 3.2949e-04\n",
      "Accuracy: 0.03\n",
      "Training MSE =  0.0007118987005540783\n",
      "Testing MSE =  0.010721068742591012\n"
     ]
    }
   ],
   "source": [
    "from keras.models import Sequential\n",
    "from keras.layers import Dense\n",
    "\n",
    "model = Sequential()\n",
    "model.add(Dense(10, input_dim=5, activation='relu'))\n",
    "model.add(Dense(10, activation='relu'))\n",
    "model.add(Dense(1, activation='sigmoid'))\n",
    "\n",
    "model.compile(loss='mean_squared_error', optimizer='adam', metrics=['accuracy'])\n",
    "\n",
    "model.fit(X_trainscaled, y_trainscaled, epochs=20, batch_size=10)\n",
    "\n",
    "_, accuracy = model.evaluate(X_testscaled, y_testscaled)\n",
    "print('Accuracy: %.2f' % (accuracy*100))\n",
    "\n",
    "y_trainscaled_pred = model.predict(X_trainscaled)\n",
    "y_testscaled_pred = model.predict(X_testscaled)\n",
    "\n",
    "mse_train = mean_squared_error(y_trainscaled,y_trainscaled_pred)\n",
    "mse_test = mean_squared_error(y_testscaled,y_testscaled_pred)\n",
    "print(\"Training MSE = \", mse_train)\n",
    "print(\"Testing MSE = \", mse_test)"
   ]
  },
  {
   "cell_type": "markdown",
   "id": "38230bdc",
   "metadata": {},
   "source": [
    "#Low accuracy, need updates?"
   ]
  },
  {
   "cell_type": "code",
   "execution_count": null,
   "id": "ae81f78c",
   "metadata": {},
   "outputs": [],
   "source": []
  }
 ],
 "metadata": {
  "kernelspec": {
   "display_name": "Python 3",
   "language": "python",
   "name": "python3"
  },
  "language_info": {
   "codemirror_mode": {
    "name": "ipython",
    "version": 3
   },
   "file_extension": ".py",
   "mimetype": "text/x-python",
   "name": "python",
   "nbconvert_exporter": "python",
   "pygments_lexer": "ipython3",
   "version": "3.8.8"
  }
 },
 "nbformat": 4,
 "nbformat_minor": 5
}
