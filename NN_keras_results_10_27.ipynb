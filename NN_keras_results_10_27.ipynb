{
 "cells": [
  {
   "cell_type": "code",
   "execution_count": 212,
   "id": "07c87699",
   "metadata": {},
   "outputs": [],
   "source": [
    "import numpy as np\n",
    "import operator\n",
    "import pandas as pd\n",
    "from sklearn.metrics import mean_squared_error\n",
    "from sklearn.model_selection import train_test_split\n",
    "from sklearn.preprocessing import MinMaxScaler \n",
    "\n",
    "df = pd.read_csv('austinHousingData.csv')\n",
    "labelsToRemove = ['zpid', 'city', 'streetAddress', 'latitude', 'longitude', 'homeType', 'description', 'hasGarage', 'numPriceChanges', 'latest_saledate', 'latest_salemonth', 'latest_saleyear', 'latestPriceSource', 'numOfPhotos', 'homeImage']\n",
    "\n",
    "df.drop(labelsToRemove, axis = 1, inplace=True)\n",
    "\n",
    "X = df\n",
    "y = df.latestPrice\n",
    "y = y.to_numpy()"
   ]
  },
  {
   "cell_type": "code",
   "execution_count": 213,
   "id": "4cd6047b",
   "metadata": {},
   "outputs": [
    {
     "name": "stdout",
     "output_type": "stream",
     "text": [
      "(12136, 32)\n",
      "(12136, 1)\n",
      "(3035, 32)\n",
      "(3035, 1)\n"
     ]
    }
   ],
   "source": [
    "X_train, X_test, y_train, y_test = train_test_split(X,y,random_state=1, test_size=0.2)\n",
    "sc = MinMaxScaler()\n",
    "y_train = y_train.reshape(-1, 1)\n",
    "y_test = y_test.reshape(-1, 1)\n",
    "X_trainscaled=sc.fit_transform(X_train)\n",
    "X_testscaled=sc.fit_transform(X_test)\n",
    "y_trainscaled=sc.fit_transform(y_train)\n",
    "y_testscaled=sc.fit_transform(y_test)\n",
    "\n",
    "print(X_trainscaled.shape)\n",
    "print(y_trainscaled.shape)\n",
    "print(X_testscaled.shape)\n",
    "print(y_testscaled.shape)"
   ]
  },
  {
   "cell_type": "code",
   "execution_count": 214,
   "id": "7ed29bc3",
   "metadata": {},
   "outputs": [
    {
     "name": "stdout",
     "output_type": "stream",
     "text": [
      "Epoch 1/20\n",
      "1214/1214 [==============================] - 1s 615us/step - loss: 0.0039 - accuracy: 8.2399e-05\n",
      "Epoch 2/20\n",
      "1214/1214 [==============================] - 1s 605us/step - loss: 6.8277e-04 - accuracy: 8.2399e-05\n",
      "Epoch 3/20\n",
      "1214/1214 [==============================] - 1s 576us/step - loss: 3.5069e-04 - accuracy: 8.2399e-05\n",
      "Epoch 4/20\n",
      "1214/1214 [==============================] - 1s 651us/step - loss: 2.2940e-04 - accuracy: 1.6480e-04\n",
      "Epoch 5/20\n",
      "1214/1214 [==============================] - 1s 763us/step - loss: 1.6569e-04 - accuracy: 1.6480e-04\n",
      "Epoch 6/20\n",
      "1214/1214 [==============================] - 1s 639us/step - loss: 1.3744e-04 - accuracy: 1.6480e-04\n",
      "Epoch 7/20\n",
      "1214/1214 [==============================] - 1s 595us/step - loss: 1.0795e-04 - accuracy: 1.6480e-04\n",
      "Epoch 8/20\n",
      "1214/1214 [==============================] - 1s 820us/step - loss: 8.9305e-05 - accuracy: 1.6480e-04\n",
      "Epoch 9/20\n",
      "1214/1214 [==============================] - 1s 608us/step - loss: 7.2997e-05 - accuracy: 1.6480e-04\n",
      "Epoch 10/20\n",
      "1214/1214 [==============================] - 1s 644us/step - loss: 5.8292e-05 - accuracy: 1.6480e-04\n",
      "Epoch 11/20\n",
      "1214/1214 [==============================] - 1s 688us/step - loss: 4.6784e-05 - accuracy: 1.6480e-04\n",
      "Epoch 12/20\n",
      "1214/1214 [==============================] - 1s 601us/step - loss: 3.6906e-05 - accuracy: 1.6480e-04\n",
      "Epoch 13/20\n",
      "1214/1214 [==============================] - 1s 655us/step - loss: 3.3213e-05 - accuracy: 1.6480e-04\n",
      "Epoch 14/20\n",
      "1214/1214 [==============================] - 1s 578us/step - loss: 2.6854e-05 - accuracy: 1.6480e-04\n",
      "Epoch 15/20\n",
      "1214/1214 [==============================] - 1s 593us/step - loss: 2.0270e-05 - accuracy: 1.6480e-04\n",
      "Epoch 16/20\n",
      "1214/1214 [==============================] - 1s 619us/step - loss: 1.7697e-05 - accuracy: 1.6480e-04\n",
      "Epoch 17/20\n",
      "1214/1214 [==============================] - 1s 618us/step - loss: 1.6723e-05 - accuracy: 1.6480e-04\n",
      "Epoch 18/20\n",
      "1214/1214 [==============================] - 1s 597us/step - loss: 1.4699e-05 - accuracy: 1.6480e-04\n",
      "Epoch 19/20\n",
      "1214/1214 [==============================] - 1s 649us/step - loss: 1.3797e-05 - accuracy: 1.6480e-04\n",
      "Epoch 20/20\n",
      "1214/1214 [==============================] - 1s 580us/step - loss: 1.1856e-05 - accuracy: 1.6480e-04\n",
      "95/95 [==============================] - 0s 522us/step - loss: 1.0251e-04 - accuracy: 6.5898e-04\n",
      "Accuracy: 0.07\n",
      "Training MSE =  1.6357805187547804e-05\n",
      "Testing MSE =  0.00010251366585819845\n"
     ]
    }
   ],
   "source": [
    "from keras.models import Sequential\n",
    "from keras.layers import Dense\n",
    "\n",
    "model = Sequential()\n",
    "model.add(Dense(10, input_dim=32, activation='relu'))\n",
    "model.add(Dense(10, activation='relu'))\n",
    "model.add(Dense(1, activation='sigmoid'))\n",
    "\n",
    "model.compile(loss='mean_squared_error', optimizer='adam', metrics=['accuracy'])\n",
    "\n",
    "model.fit(X_trainscaled, y_trainscaled, epochs=20, batch_size=10)\n",
    "\n",
    "_, accuracy = model.evaluate(X_testscaled, y_testscaled)\n",
    "print('Accuracy: %.2f' % (accuracy*100))\n",
    "\n",
    "y_trainscaled_pred = model.predict(X_trainscaled)\n",
    "y_testscaled_pred = model.predict(X_testscaled)\n",
    "\n",
    "mse_train = mean_squared_error(y_trainscaled,y_trainscaled_pred)\n",
    "mse_test = mean_squared_error(y_testscaled,y_testscaled_pred)\n",
    "print(\"Training MSE = \", mse_train)\n",
    "print(\"Testing MSE = \", mse_test)"
   ]
  },
  {
   "cell_type": "markdown",
   "id": "7f362453",
   "metadata": {},
   "source": [
    "#Low accuracy, need updates?"
   ]
  },
  {
   "cell_type": "code",
   "execution_count": null,
   "id": "b49c145c",
   "metadata": {},
   "outputs": [],
   "source": []
  }
 ],
 "metadata": {
  "kernelspec": {
   "display_name": "Python 3",
   "language": "python",
   "name": "python3"
  },
  "language_info": {
   "codemirror_mode": {
    "name": "ipython",
    "version": 3
   },
   "file_extension": ".py",
   "mimetype": "text/x-python",
   "name": "python",
   "nbconvert_exporter": "python",
   "pygments_lexer": "ipython3",
   "version": "3.8.8"
  }
 },
 "nbformat": 4,
 "nbformat_minor": 5
}
