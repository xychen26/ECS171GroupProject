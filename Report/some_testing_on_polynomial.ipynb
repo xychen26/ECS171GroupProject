{
 "cells": [
  {
   "cell_type": "code",
   "execution_count": 16,
   "id": "3f32a074",
   "metadata": {},
   "outputs": [],
   "source": [
    "import numpy as np\n",
    "import pandas as pd\n",
    "import matplotlib.pyplot as plt\n",
    "from sklearn.metrics import mean_squared_error, r2_score\n",
    "from sklearn.model_selection import train_test_split\n",
    "from sklearn.preprocessing import MinMaxScaler\n",
    "from sklearn.preprocessing import PolynomialFeatures\n",
    "from sklearn.linear_model import LinearRegression, Ridge, Lasso\n",
    "\n",
    "def PolynomialRegressionModel (X, Y, degree, showTraining=False, regularization=\"None\", alpha=0.5):\n",
    "    \n",
    "    trainX, testX, trainY, testY = train_test_split(X, Y, train_size = 0.8, random_state = 1)\n",
    "    \n",
    "    poly_feature = PolynomialFeatures(degree)\n",
    "    polyRegModel = None\n",
    "    \n",
    "    if regularization == \"L1\":\n",
    "        polyRegModel = Lasso(alpha=alpha)\n",
    "    elif regularization == \"L2\":\n",
    "        polyRegModel = Ridge(alpha=alpha)\n",
    "    else:\n",
    "        polyRegModel = LinearRegression()\n",
    "    \n",
    "    X_train_poly = poly_feature.fit_transform(trainX)\n",
    "    X_test_poly = poly_feature.fit_transform(testX)\n",
    "    \n",
    "    polyRegModel.fit(X_train_poly, trainY)\n",
    "    \n",
    "    print(\"degree = {}\".format(degree))\n",
    "    \n",
    "    if showTraining:\n",
    "        train_pred = polyRegModel.predict(X_train_poly)    \n",
    "        print(\"Training MSE =\", mean_squared_error(trainY, train_pred))\n",
    "        print(\"Testing RMSE =\", mean_squared_error(trainY, train_pred, squared=False))\n",
    "        print(\"R-Squared Score:\", r2_score(trainY, train_pred))\n",
    "        \n",
    "    test_pred = polyRegModel.predict(X_test_poly)\n",
    "    print(\"Testing MSE =\", mean_squared_error(testY, test_pred))\n",
    "    print(\"Testing RMSE =\", mean_squared_error(testY, test_pred, squared=False))\n",
    "    print(\"R-Squared Score:\", r2_score(testY, test_pred))"
   ]
  },
  {
   "cell_type": "code",
   "execution_count": 17,
   "id": "0c977307",
   "metadata": {},
   "outputs": [],
   "source": [
    "df = pd.read_csv('../austinHousingData.csv')\n",
    "df_filtered = df[['livingAreaSqFt','numOfBathrooms', 'avgSchoolRating', 'numOfBedrooms', 'numOfHighSchools', 'MedianStudentsPerTeacher', 'latestPrice']]\n",
    "dropRows = [705,1399,14275,2316, 2838, 14639, 14376, 14654, 2557]\n",
    "X = df_filtered.drop(columns = \"latestPrice\")\n",
    "Y = df_filtered[\"latestPrice\"]\n",
    "X = X.drop(dropRows, axis=0)\n",
    "Y = Y.drop(dropRows, axis=0)\n"
   ]
  },
  {
   "cell_type": "markdown",
   "id": "b1db6538",
   "metadata": {},
   "source": [
    "### Raw data, not do any outlier clean up, no transform"
   ]
  },
  {
   "cell_type": "code",
   "execution_count": 18,
   "id": "dceee52c",
   "metadata": {},
   "outputs": [
    {
     "name": "stdout",
     "output_type": "stream",
     "text": [
      "degree = 2\n",
      "Training MSE = 76975856800.7875\n",
      "Testing RMSE = 277445.23207434564\n",
      "R-Squared Score: 0.5342501350804754\n",
      "Testing MSE = 84909616528.02756\n",
      "Testing RMSE = 291392.54713878245\n",
      "R-Squared Score: 0.48404638152005597\n",
      "degree = 3\n",
      "Training MSE = 69162849652.47954\n",
      "Testing RMSE = 262988.3070641726\n",
      "R-Squared Score: 0.5815234903268763\n",
      "Testing MSE = 129183973340.98683\n",
      "Testing RMSE = 359421.7207417866\n",
      "R-Squared Score: 0.21501307837260686\n",
      "degree = 4\n",
      "Training MSE = 74334863191.1964\n",
      "Testing RMSE = 272644.2062307512\n",
      "R-Squared Score: 0.550229722291875\n",
      "Testing MSE = 2738442796778.8315\n",
      "Testing RMSE = 1654824.0984403242\n",
      "R-Squared Score: -15.64015841517778\n",
      "degree = 5\n",
      "Training MSE = 66360853091.43587\n",
      "Testing RMSE = 257606.0036013056\n",
      "R-Squared Score: 0.5984772414645669\n",
      "Testing MSE = 240804929819.91977\n",
      "Testing RMSE = 490718.7889412018\n",
      "R-Squared Score: -0.4632521022796656\n",
      "degree = 6\n",
      "Training MSE = 65861550682.33807\n",
      "Testing RMSE = 256635.05349491537\n",
      "R-Squared Score: 0.6014983189719356\n",
      "Testing MSE = 12488579935126.58\n",
      "Testing RMSE = 3533918.495823946\n",
      "R-Squared Score: -74.88690504894295\n",
      "degree = 7\n",
      "Training MSE = 71825192959.34076\n",
      "Testing RMSE = 268002.22566117015\n",
      "R-Squared Score: 0.5654147247076889\n",
      "Testing MSE = 36799361917350.03\n",
      "Testing RMSE = 6066247.762608286\n",
      "R-Squared Score: -222.61146729172327\n"
     ]
    }
   ],
   "source": [
    "for i in range(2,8):\n",
    "    PolynomialRegressionModel(X, Y, i, True)"
   ]
  },
  {
   "cell_type": "markdown",
   "id": "a28763df",
   "metadata": {},
   "source": [
    "### If do log10 transform:"
   ]
  },
  {
   "cell_type": "code",
   "execution_count": 19,
   "id": "80ed9932",
   "metadata": {},
   "outputs": [
    {
     "name": "stdout",
     "output_type": "stream",
     "text": [
      "degree = 1\n",
      "Training MSE = 0.03184134268510467\n",
      "Testing RMSE = 0.1784414264824866\n",
      "R-Squared Score: 0.43163720235048897\n",
      "Testing MSE = 0.03137194214737487\n",
      "Testing RMSE = 0.1771212639616567\n",
      "R-Squared Score: 0.43453864642343076\n",
      "degree = 2\n",
      "Training MSE = 0.028741225909728593\n",
      "Testing RMSE = 0.16953237422312173\n",
      "R-Squared Score: 0.48697378350280274\n",
      "Testing MSE = 0.029383387687235252\n",
      "Testing RMSE = 0.17141583266208302\n",
      "R-Squared Score: 0.4703812057208112\n",
      "degree = 3\n",
      "Training MSE = 0.027423291611199517\n",
      "Testing RMSE = 0.1655997935119471\n",
      "R-Squared Score: 0.5104986967716343\n",
      "Testing MSE = 0.03254434613348047\n",
      "Testing RMSE = 0.1804005158902836\n",
      "R-Squared Score: 0.4134067336522187\n",
      "degree = 4\n",
      "Training MSE = 0.02720163341647349\n",
      "Testing RMSE = 0.16492917697143064\n",
      "R-Squared Score: 0.5144552595624163\n",
      "Testing MSE = 0.07838891903191217\n",
      "Testing RMSE = 0.27998021185775285\n",
      "R-Squared Score: -0.4129155298374865\n",
      "degree = 5\n",
      "Training MSE = 0.026911499561640993\n",
      "Testing RMSE = 0.16404724795509673\n",
      "R-Squared Score: 0.5196341017694247\n",
      "Testing MSE = 0.03807655886860951\n",
      "Testing RMSE = 0.19513215744364\n",
      "R-Squared Score: 0.3136917562758065\n",
      "degree = 6\n",
      "Training MSE = 0.027987214951528606\n",
      "Testing RMSE = 0.16729379830564134\n",
      "R-Squared Score: 0.5004327566968386\n",
      "Testing MSE = 0.8148747787498858\n",
      "Testing RMSE = 0.9027041479631551\n",
      "R-Squared Score: -13.687652846697436\n",
      "degree = 7\n",
      "Training MSE = 0.03281953675539852\n",
      "Testing RMSE = 0.18116163157633164\n",
      "R-Squared Score: 0.41417659700056275\n",
      "Testing MSE = 0.8837211416099408\n",
      "Testing RMSE = 0.9400644348181356\n",
      "R-Squared Score: -14.928569247371337\n"
     ]
    }
   ],
   "source": [
    "Y_tr = np.log10(Y)\n",
    "for i in range(1,8):\n",
    "    PolynomialRegressionModel(X, Y_tr, i, True)"
   ]
  },
  {
   "cell_type": "markdown",
   "id": "e7b1dd34",
   "metadata": {},
   "source": [
    "### log(Y) transform + L1 regularization"
   ]
  },
  {
   "cell_type": "code",
   "execution_count": 20,
   "id": "23d5a558",
   "metadata": {},
   "outputs": [
    {
     "name": "stdout",
     "output_type": "stream",
     "text": [
      "degree = 1\n",
      "Training MSE = 0.03464720234724435\n",
      "Testing RMSE = 0.18613758982871878\n",
      "R-Squared Score: 0.38155306289830304\n",
      "Testing MSE = 0.03362468716849623\n",
      "Testing RMSE = 0.18337035520633163\n",
      "R-Squared Score: 0.3939342030350653\n",
      "degree = 2\n",
      "Training MSE = 0.032067894615947716\n",
      "Testing RMSE = 0.17907510886761374\n",
      "R-Squared Score: 0.4275932871644912\n",
      "Testing MSE = 0.03204477520714069\n",
      "Testing RMSE = 0.17901054496073882\n",
      "R-Squared Score: 0.4224112144997404\n"
     ]
    },
    {
     "name": "stderr",
     "output_type": "stream",
     "text": [
      "C:\\Users\\Eric\\anaconda3\\lib\\site-packages\\sklearn\\linear_model\\_coordinate_descent.py:530: ConvergenceWarning: Objective did not converge. You might want to increase the number of iterations. Duality gap: 180.72416075261552, tolerance: 0.06795019783574796\n",
      "  model = cd_fast.enet_coordinate_descent(\n"
     ]
    },
    {
     "name": "stdout",
     "output_type": "stream",
     "text": [
      "degree = 3\n",
      "Training MSE = 0.029423026467402406\n",
      "Testing RMSE = 0.1715314153949719\n",
      "R-Squared Score: 0.47480375423516885\n",
      "Testing MSE = 0.029925504577766274\n",
      "Testing RMSE = 0.17298989732861939\n",
      "R-Squared Score: 0.4606098581492666\n"
     ]
    },
    {
     "name": "stderr",
     "output_type": "stream",
     "text": [
      "C:\\Users\\Eric\\anaconda3\\lib\\site-packages\\sklearn\\linear_model\\_coordinate_descent.py:530: ConvergenceWarning: Objective did not converge. You might want to increase the number of iterations. Duality gap: 173.30726278312395, tolerance: 0.06795019783574796\n",
      "  model = cd_fast.enet_coordinate_descent(\n"
     ]
    },
    {
     "name": "stdout",
     "output_type": "stream",
     "text": [
      "degree = 4\n",
      "Training MSE = 0.02837718089676018\n",
      "Testing RMSE = 0.16845527862539714\n",
      "R-Squared Score: 0.4934719278834375\n",
      "Testing MSE = 0.028772613911745848\n",
      "Testing RMSE = 0.16962492125789136\n",
      "R-Squared Score: 0.48139005446198513\n"
     ]
    },
    {
     "name": "stderr",
     "output_type": "stream",
     "text": [
      "C:\\Users\\Eric\\anaconda3\\lib\\site-packages\\sklearn\\linear_model\\_coordinate_descent.py:530: ConvergenceWarning: Objective did not converge. You might want to increase the number of iterations. Duality gap: 170.73747640707577, tolerance: 0.06795019783574796\n",
      "  model = cd_fast.enet_coordinate_descent(\n"
     ]
    },
    {
     "name": "stdout",
     "output_type": "stream",
     "text": [
      "degree = 5\n",
      "Training MSE = 0.02791100435336626\n",
      "Testing RMSE = 0.16706586830758177\n",
      "R-Squared Score: 0.5017931035016345\n",
      "Testing MSE = 0.029240800982526308\n",
      "Testing RMSE = 0.17099941807657215\n",
      "R-Squared Score: 0.4729512497004916\n"
     ]
    },
    {
     "name": "stderr",
     "output_type": "stream",
     "text": [
      "C:\\Users\\Eric\\anaconda3\\lib\\site-packages\\sklearn\\linear_model\\_coordinate_descent.py:530: ConvergenceWarning: Objective did not converge. You might want to increase the number of iterations. Duality gap: 168.0547626142004, tolerance: 0.06795019783574796\n",
      "  model = cd_fast.enet_coordinate_descent(\n"
     ]
    },
    {
     "name": "stdout",
     "output_type": "stream",
     "text": [
      "degree = 6\n",
      "Training MSE = 0.027511005508909864\n",
      "Testing RMSE = 0.16586441905637828\n",
      "R-Squared Score: 0.5089330179374087\n",
      "Testing MSE = 0.028536978726928695\n",
      "Testing RMSE = 0.16892891619532963\n",
      "R-Squared Score: 0.48563724419384946\n",
      "degree = 7\n",
      "Training MSE = 0.027207785351941034\n",
      "Testing RMSE = 0.16494782615100156\n",
      "R-Squared Score: 0.5143454485130561\n",
      "Testing MSE = 0.02818486844597668\n",
      "Testing RMSE = 0.16788349664566998\n",
      "R-Squared Score: 0.49198383106246046\n"
     ]
    },
    {
     "name": "stderr",
     "output_type": "stream",
     "text": [
      "C:\\Users\\Eric\\anaconda3\\lib\\site-packages\\sklearn\\linear_model\\_coordinate_descent.py:530: ConvergenceWarning: Objective did not converge. You might want to increase the number of iterations. Duality gap: 165.96675190717627, tolerance: 0.06795019783574796\n",
      "  model = cd_fast.enet_coordinate_descent(\n"
     ]
    }
   ],
   "source": [
    "Y_tr = np.log10(Y)\n",
    "for i in range(1,8):\n",
    "    PolynomialRegressionModel(X, Y_tr, i, True, \"L1\", alpha=1.0)"
   ]
  },
  {
   "cell_type": "markdown",
   "id": "7e32a5b8",
   "metadata": {},
   "source": [
    "### log(Y) + L2 regluralization"
   ]
  },
  {
   "cell_type": "code",
   "execution_count": 21,
   "id": "4a829b5f",
   "metadata": {},
   "outputs": [
    {
     "name": "stderr",
     "output_type": "stream",
     "text": [
      "C:\\Users\\Eric\\anaconda3\\lib\\site-packages\\sklearn\\linear_model\\_ridge.py:147: LinAlgWarning: Ill-conditioned matrix (rcond=1.32442e-18): result may not be accurate.\n",
      "  return linalg.solve(A, Xy, sym_pos=True,\n"
     ]
    },
    {
     "name": "stdout",
     "output_type": "stream",
     "text": [
      "degree = 1\n",
      "Training MSE = 0.03184134317094848\n",
      "Testing RMSE = 0.17844142784384034\n",
      "R-Squared Score: 0.4316371936782558\n",
      "Testing MSE = 0.03137192191721278\n",
      "Testing RMSE = 0.17712120685342223\n",
      "R-Squared Score: 0.43453901106055726\n",
      "degree = 2\n",
      "Training MSE = 0.028745250701636697\n",
      "Testing RMSE = 0.16954424408288443\n",
      "R-Squared Score: 0.4869019416206476\n",
      "Testing MSE = 0.029379324414003618\n",
      "Testing RMSE = 0.1714039801579987\n",
      "R-Squared Score: 0.47045444390194513\n",
      "degree = 3\n",
      "Training MSE = 0.027122086847441752\n",
      "Testing RMSE = 0.16468784669016032\n",
      "R-Squared Score: 0.5158751529056531\n",
      "Testing MSE = 0.031872297266820206\n",
      "Testing RMSE = 0.17852814138622575\n",
      "R-Squared Score: 0.4255200309427122\n",
      "degree = 4\n",
      "Training MSE = 0.025652862438125836\n",
      "Testing RMSE = 0.16016510992761762\n",
      "R-Squared Score: 0.5421005700908518\n",
      "Testing MSE = 0.07177972089127943\n"
     ]
    },
    {
     "name": "stderr",
     "output_type": "stream",
     "text": [
      "C:\\Users\\Eric\\anaconda3\\lib\\site-packages\\sklearn\\linear_model\\_ridge.py:147: LinAlgWarning: Ill-conditioned matrix (rcond=8.58156e-27): result may not be accurate.\n",
      "  return linalg.solve(A, Xy, sym_pos=True,\n",
      "C:\\Users\\Eric\\anaconda3\\lib\\site-packages\\sklearn\\linear_model\\_ridge.py:147: LinAlgWarning: Ill-conditioned matrix (rcond=3.48808e-35): result may not be accurate.\n",
      "  return linalg.solve(A, Xy, sym_pos=True,\n"
     ]
    },
    {
     "name": "stdout",
     "output_type": "stream",
     "text": [
      "Testing RMSE = 0.26791737698641244\n",
      "R-Squared Score: -0.2937885051508542\n",
      "degree = 5\n",
      "Training MSE = 0.05459967179630486\n",
      "Testing RMSE = 0.23366572661882798\n",
      "R-Squared Score: 0.025404722414238856\n",
      "Testing MSE = 1.3343441585158773\n",
      "Testing RMSE = 1.15513815559693\n",
      "R-Squared Score: -23.050791961393205\n",
      "degree = 6\n",
      "Training MSE = 0.029868562490919966\n",
      "Testing RMSE = 0.17282523684612722\n",
      "R-Squared Score: 0.4668510085458818\n",
      "Testing MSE = 0.11461119906594149\n",
      "Testing RMSE = 0.3385427581058875\n",
      "R-Squared Score: -1.0658014557853535\n",
      "degree = 7\n",
      "Training MSE = 0.03456851732486454\n",
      "Testing RMSE = 0.18592610716320754\n",
      "R-Squared Score: 0.38295757777367057\n",
      "Testing MSE = 2.7628109795774773\n",
      "Testing RMSE = 1.6621705627213705\n",
      "R-Squared Score: -48.79809120038218\n"
     ]
    }
   ],
   "source": [
    "Y_tr = np.log10(Y)\n",
    "for i in range(1,8):\n",
    "    PolynomialRegressionModel(X, Y_tr, i, True, \"L2\", alpha=1.0)"
   ]
  },
  {
   "cell_type": "code",
   "execution_count": 22,
   "id": "d29958ac",
   "metadata": {},
   "outputs": [],
   "source": [
    "from scipy import stats\n",
    "\n",
    "df = pd.read_csv('../austinHousingData.csv')\n",
    "df_filtered = df[['livingAreaSqFt', 'numOfBathrooms', 'avgSchoolRating', 'numOfBedrooms', 'numOfHighSchools', 'MedianStudentsPerTeacher', 'latestPrice']]\n",
    "z = np.abs(stats.zscore(df_filtered))\n",
    "threshold = 3\n",
    "df_filtered_o = df_filtered[(z < threshold).all(axis=1)]\n",
    "df_p = df_filtered_o.sample(len(df_filtered_o), random_state=25)\n",
    "X_col = ['livingAreaSqFt', 'numOfBathrooms', 'avgSchoolRating', 'numOfBedrooms', 'numOfHighSchools', 'MedianStudentsPerTeacher']\n",
    "X = df_p[X_col]\n",
    "Y = df_p[\"latestPrice\"]"
   ]
  },
  {
   "cell_type": "markdown",
   "id": "d85952b3",
   "metadata": {},
   "source": [
    "### remove outliers (only use 3 SD range of data), no transform"
   ]
  },
  {
   "cell_type": "code",
   "execution_count": 23,
   "id": "6149cf84",
   "metadata": {},
   "outputs": [
    {
     "name": "stdout",
     "output_type": "stream",
     "text": [
      "degree = 1\n",
      "Training MSE = 40097307192.25421\n",
      "Testing RMSE = 200243.12021204177\n",
      "R-Squared Score: 0.34825684541559865\n",
      "Testing MSE = 41967968283.03878\n",
      "Testing RMSE = 204860.851025858\n",
      "R-Squared Score: 0.343678599356966\n",
      "degree = 2\n",
      "Training MSE = 36477944795.19383\n",
      "Testing RMSE = 190992.00191420014\n",
      "R-Squared Score: 0.40708609933367645\n",
      "Testing MSE = 37187447681.978424\n",
      "Testing RMSE = 192840.4721057756\n",
      "R-Squared Score: 0.41843937775659246\n",
      "degree = 3\n",
      "Training MSE = 34564474406.561646\n",
      "Testing RMSE = 185915.23446603736\n",
      "R-Squared Score: 0.43818771973206283\n",
      "Testing MSE = 35533705748.29866\n",
      "Testing RMSE = 188503.86136177334\n",
      "R-Squared Score: 0.4443016309611031\n",
      "degree = 4\n",
      "Training MSE = 33999294344.294983\n",
      "Testing RMSE = 184388.97565823988\n",
      "R-Squared Score: 0.44737417793794065\n",
      "Testing MSE = 35607304343.97677\n",
      "Testing RMSE = 188698.97812117788\n",
      "R-Squared Score: 0.4431506499778197\n",
      "degree = 5\n",
      "Training MSE = 33103829606.338383\n",
      "Testing RMSE = 181944.57839226312\n",
      "R-Squared Score: 0.46192909581151964\n",
      "Testing MSE = 34823099404.16197\n",
      "Testing RMSE = 186609.48369298375\n",
      "R-Squared Score: 0.45541453849916247\n",
      "degree = 6\n",
      "Training MSE = 37583050661.63661\n",
      "Testing RMSE = 193863.48460098568\n",
      "R-Squared Score: 0.38912366659245046\n",
      "Testing MSE = 40292211170.3062\n",
      "Testing RMSE = 200729.19859927255\n",
      "R-Squared Score: 0.3698851397343489\n",
      "degree = 7\n",
      "Training MSE = 33423379638.231064\n",
      "Testing RMSE = 182820.62147972002\n",
      "R-Squared Score: 0.4567351174519575\n",
      "Testing MSE = 35756556045.465324\n",
      "Testing RMSE = 189094.04021667453\n",
      "R-Squared Score: 0.4408165582936885\n"
     ]
    }
   ],
   "source": [
    "# no outlier, not transform\n",
    "for i in range(1,8):\n",
    "    PolynomialRegressionModel(X, Y, i, True)"
   ]
  },
  {
   "cell_type": "markdown",
   "id": "75cea21c",
   "metadata": {},
   "source": [
    "### remove outliers (only use 3 SD range of data), yes transform log(Y)"
   ]
  },
  {
   "cell_type": "code",
   "execution_count": 24,
   "id": "54f73a52",
   "metadata": {},
   "outputs": [
    {
     "name": "stdout",
     "output_type": "stream",
     "text": [
      "degree = 1\n",
      "Training MSE = 40097307192.25421\n",
      "Testing RMSE = 200243.12021204177\n",
      "R-Squared Score: 0.34825684541559865\n",
      "Testing MSE = 41967968283.03878\n",
      "Testing RMSE = 204860.851025858\n",
      "R-Squared Score: 0.343678599356966\n",
      "degree = 2\n",
      "Training MSE = 36477944795.19383\n",
      "Testing RMSE = 190992.00191420014\n",
      "R-Squared Score: 0.40708609933367645\n",
      "Testing MSE = 37187447681.978424\n",
      "Testing RMSE = 192840.4721057756\n",
      "R-Squared Score: 0.41843937775659246\n",
      "degree = 3\n",
      "Training MSE = 34564474406.561646\n",
      "Testing RMSE = 185915.23446603736\n",
      "R-Squared Score: 0.43818771973206283\n",
      "Testing MSE = 35533705748.29866\n",
      "Testing RMSE = 188503.86136177334\n",
      "R-Squared Score: 0.4443016309611031\n",
      "degree = 4\n",
      "Training MSE = 33999294344.294983\n",
      "Testing RMSE = 184388.97565823988\n",
      "R-Squared Score: 0.44737417793794065\n",
      "Testing MSE = 35607304343.97677\n",
      "Testing RMSE = 188698.97812117788\n",
      "R-Squared Score: 0.4431506499778197\n",
      "degree = 5\n",
      "Training MSE = 33103829606.338383\n",
      "Testing RMSE = 181944.57839226312\n",
      "R-Squared Score: 0.46192909581151964\n",
      "Testing MSE = 34823099404.16197\n",
      "Testing RMSE = 186609.48369298375\n",
      "R-Squared Score: 0.45541453849916247\n",
      "degree = 6\n",
      "Training MSE = 37583050661.63661\n",
      "Testing RMSE = 193863.48460098568\n",
      "R-Squared Score: 0.38912366659245046\n",
      "Testing MSE = 40292211170.3062\n",
      "Testing RMSE = 200729.19859927255\n",
      "R-Squared Score: 0.3698851397343489\n",
      "degree = 7\n",
      "Training MSE = 33423379638.231064\n",
      "Testing RMSE = 182820.62147972002\n",
      "R-Squared Score: 0.4567351174519575\n",
      "Testing MSE = 35756556045.465324\n",
      "Testing RMSE = 189094.04021667453\n",
      "R-Squared Score: 0.4408165582936885\n"
     ]
    }
   ],
   "source": [
    "# no outlier, yes transform\n",
    "Y_tr = np.log10(Y)\n",
    "for i in range(1,8):\n",
    "    PolynomialRegressionModel(X, Y, i, True)"
   ]
  },
  {
   "cell_type": "markdown",
   "id": "54138eeb",
   "metadata": {},
   "source": [
    "### It seem the max R-Score we can get is ~0.48, which indicates our model does not have good fit for this data."
   ]
  }
 ],
 "metadata": {
  "hide_input": false,
  "kernelspec": {
   "display_name": "Python 3",
   "language": "python",
   "name": "python3"
  },
  "language_info": {
   "codemirror_mode": {
    "name": "ipython",
    "version": 3
   },
   "file_extension": ".py",
   "mimetype": "text/x-python",
   "name": "python",
   "nbconvert_exporter": "python",
   "pygments_lexer": "ipython3",
   "version": "3.8.8"
  }
 },
 "nbformat": 4,
 "nbformat_minor": 5
}
